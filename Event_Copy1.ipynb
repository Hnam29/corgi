{
  "cells": [
    {
      "cell_type": "markdown",
      "metadata": {
        "id": "view-in-github",
        "colab_type": "text"
      },
      "source": [
        "<a href=\"https://colab.research.google.com/github/Hnam29/corgi/blob/main/Event_Copy1.ipynb\" target=\"_parent\"><img src=\"https://colab.research.google.com/assets/colab-badge.svg\" alt=\"Open In Colab\"/></a>"
      ]
    },
    {
      "cell_type": "markdown",
      "id": "fc6797b3",
      "metadata": {
        "id": "fc6797b3"
      },
      "source": [
        "# I. Case study - Sales analytics\n",
        "\n",
        "**Context**:</br>\n",
        "Sales analytics is the practice of generating insights from sales data, trends, and metrics to set targets and forecast future sales performance. Sales analysis is mining your data to evaluate the performance of your sales team against its goals. It provides insights about the top performing and underperforming products/services, the problems in selling and market opportunities, sales forecasting, and sales activities that generate revenue.\n",
        "\n",
        "**Content**:</br>\n",
        "* `Order ID` - An Order ID is the number system that Amazon uses exclusively to keep track of orders. Each order receives its own Order ID that will not be duplicated. This number can be useful to the seller when attempting to find out certain details about an order such as shipment date or status.\n",
        "* `Product` - The product that have been sold.\n",
        "* `Quantity Ordered` - Ordered Quantity is the total item quantity ordered in the initial order (without any changes).\n",
        "* `Price Each` - The price of each products.\n",
        "* `Order Date` - This is the date the customer is requesting the order be shipped.\n",
        "* `Purchase Address` - The purchase order is prepared by the buyer, often through a purchasing department. The purchase order, or PO, usually includes a PO number, which is useful in matching shipments with purchases; a shipping date; billing address; shipping address; and the request items, quantities and price.\n",
        "\n",
        "\n",
        "**Question: What was the best month for sales? How much was earned that month?**"
      ]
    },
    {
      "cell_type": "markdown",
      "id": "0be4d0bd",
      "metadata": {
        "id": "0be4d0bd"
      },
      "source": [
        "## 1. Prepared and Data Extraction"
      ]
    },
    {
      "cell_type": "markdown",
      "id": "bdddb2ea",
      "metadata": {
        "id": "bdddb2ea"
      },
      "source": [
        "###  1.1 Import necessary libraries"
      ]
    },
    {
      "cell_type": "code",
      "execution_count": 1,
      "id": "dd4eef62",
      "metadata": {
        "id": "dd4eef62"
      },
      "outputs": [],
      "source": [
        "import os\n",
        "import pandas as pd\n",
        "import numpy as np"
      ]
    },
    {
      "cell_type": "markdown",
      "id": "d3f7930f",
      "metadata": {
        "id": "d3f7930f"
      },
      "source": [
        "### 1.2 Merge data from each month into one CSV"
      ]
    },
    {
      "cell_type": "markdown",
      "id": "526725a8",
      "metadata": {
        "id": "526725a8"
      },
      "source": [
        "The `os` module in Python provides many functions for interacting with the OS and the filesystem.  Let's import it and try out some examples."
      ]
    },
    {
      "cell_type": "markdown",
      "id": "4c3fd9e0",
      "metadata": {
        "id": "4c3fd9e0"
      },
      "source": [
        "We can check the present working directory using the `os.getcwd` function."
      ]
    },
    {
      "cell_type": "code",
      "execution_count": 2,
      "id": "dc2f7215",
      "metadata": {
        "colab": {
          "base_uri": "https://localhost:8080/",
          "height": 35
        },
        "id": "dc2f7215",
        "outputId": "bbcccef4-0d2e-4045-c189-de694e05ea2a"
      },
      "outputs": [
        {
          "output_type": "execute_result",
          "data": {
            "text/plain": [
              "'/content'"
            ],
            "application/vnd.google.colaboratory.intrinsic+json": {
              "type": "string"
            }
          },
          "metadata": {},
          "execution_count": 2
        }
      ],
      "source": [
        "os.getcwd()"
      ]
    },
    {
      "cell_type": "markdown",
      "id": "487b786b",
      "metadata": {
        "id": "487b786b"
      },
      "source": [
        "To get the list of files in a directory, use `os.listdir`. You pass an absolute or relative path of a directory as the argument to the function."
      ]
    },
    {
      "cell_type": "code",
      "execution_count": 3,
      "id": "0c99cd6a",
      "metadata": {
        "colab": {
          "base_uri": "https://localhost:8080/"
        },
        "id": "0c99cd6a",
        "outputId": "203470cb-11e9-4719-dc0e-8a37f93cdbc3"
      },
      "outputs": [
        {
          "output_type": "execute_result",
          "data": {
            "text/plain": [
              "['.config', 'sample_data']"
            ]
          },
          "metadata": {},
          "execution_count": 3
        }
      ],
      "source": [
        "lst_files = os.listdir()\n",
        "lst_files"
      ]
    },
    {
      "cell_type": "markdown",
      "id": "1f744950",
      "metadata": {
        "id": "1f744950"
      },
      "source": [
        "[Pandas](https://pandas.pydata.org/) is a popular Python library used for working in tabular data (similar to the data stored in a spreadsheet). Pandas provides helper functions to read data from various file formats like CSV, Excel spreadsheets, HTML tables, JSON, SQL, and more."
      ]
    },
    {
      "cell_type": "markdown",
      "id": "105b2b8e",
      "metadata": {
        "id": "105b2b8e"
      },
      "source": [
        "We can create a `DataFrame` object - one of the core data structures in Pandas for storing and working with tabular data by `pd.DataFrame`"
      ]
    },
    {
      "cell_type": "code",
      "execution_count": 4,
      "id": "89576e8c",
      "metadata": {
        "colab": {
          "base_uri": "https://localhost:8080/",
          "height": 133
        },
        "id": "89576e8c",
        "outputId": "a4d1ef36-10c1-4fb1-8905-5a5071024cb6"
      },
      "outputs": [
        {
          "output_type": "error",
          "ename": "SyntaxError",
          "evalue": "ignored",
          "traceback": [
            "\u001b[0;36m  File \u001b[0;32m\"<ipython-input-4-37399fd110d8>\"\u001b[0;36m, line \u001b[0;32m1\u001b[0m\n\u001b[0;31m    all_months_data = ???\u001b[0m\n\u001b[0m                      ^\u001b[0m\n\u001b[0;31mSyntaxError\u001b[0m\u001b[0;31m:\u001b[0m invalid syntax\n"
          ]
        }
      ],
      "source": [
        "all_months_data = ???\n",
        "all_months_data"
      ]
    },
    {
      "cell_type": "code",
      "execution_count": null,
      "id": "53609433",
      "metadata": {
        "id": "53609433",
        "outputId": "60412a47-1b2f-4ed3-d14f-5d29a80635f1"
      },
      "outputs": [
        {
          "name": "stdout",
          "output_type": "stream",
          "text": [
            "Empty DataFrame\n",
            "Columns: []\n",
            "Index: []\n"
          ]
        }
      ],
      "source": [
        "print(all_months_data)"
      ]
    },
    {
      "cell_type": "markdown",
      "id": "9a4ec822",
      "metadata": {
        "id": "9a4ec822"
      },
      "source": [
        "To read the file, we can use the `read_csv` method from Pandas. Data from the file is read and stored in a `DataFrame` object. "
      ]
    },
    {
      "cell_type": "markdown",
      "id": "908555b9",
      "metadata": {
        "id": "908555b9"
      },
      "source": [
        "Use `pandas.concat()` to concatenate/merge two or multiple pandas DataFrames across rows or columns. When you concat() two pandas DataFrames on rows, it creates a new Dataframe containing all rows of two DataFrames basically it does append one DataFrame with another."
      ]
    },
    {
      "cell_type": "code",
      "execution_count": null,
      "id": "0c78643f",
      "metadata": {
        "id": "0c78643f"
      },
      "outputs": [],
      "source": [
        "for file in lst_files:\n",
        "    if \"2019.csv\" in file:\n",
        "        current_df = pd.read_csv(file)\n",
        "        all_months_data = pd.concat([all_months_data, current_df])"
      ]
    },
    {
      "cell_type": "markdown",
      "id": "eeccc8f7",
      "metadata": {
        "id": "eeccc8f7"
      },
      "source": [
        "> **CSVs**: A comma-separated values (CSV) file is a delimited text file that uses a comma to separate values. Each line of the file is a data record. Each record consists of one or more fields, separated by commas. A CSV file typically stores tabular data (numbers and text) in plain text, in which case each line will have the same number of fields. (Wikipedia)"
      ]
    },
    {
      "cell_type": "code",
      "execution_count": null,
      "id": "f5947b3a",
      "metadata": {
        "id": "f5947b3a",
        "outputId": "dffb076e-b399-4eb8-d656-3275da01ecc5"
      },
      "outputs": [
        {
          "data": {
            "text/html": [
              "<div>\n",
              "<style scoped>\n",
              "    .dataframe tbody tr th:only-of-type {\n",
              "        vertical-align: middle;\n",
              "    }\n",
              "\n",
              "    .dataframe tbody tr th {\n",
              "        vertical-align: top;\n",
              "    }\n",
              "\n",
              "    .dataframe thead th {\n",
              "        text-align: right;\n",
              "    }\n",
              "</style>\n",
              "<table border=\"1\" class=\"dataframe\">\n",
              "  <thead>\n",
              "    <tr style=\"text-align: right;\">\n",
              "      <th></th>\n",
              "      <th>Order ID</th>\n",
              "      <th>Product</th>\n",
              "      <th>Quantity Ordered</th>\n",
              "      <th>Price Each</th>\n",
              "      <th>Order Date</th>\n",
              "      <th>Purchase Address</th>\n",
              "    </tr>\n",
              "  </thead>\n",
              "  <tbody>\n",
              "    <tr>\n",
              "      <th>0</th>\n",
              "      <td>176558</td>\n",
              "      <td>USB-C Charging Cable</td>\n",
              "      <td>2</td>\n",
              "      <td>11.95</td>\n",
              "      <td>04/19/19 08:46</td>\n",
              "      <td>917 1st St, Dallas, TX 75001</td>\n",
              "    </tr>\n",
              "    <tr>\n",
              "      <th>1</th>\n",
              "      <td>NaN</td>\n",
              "      <td>NaN</td>\n",
              "      <td>NaN</td>\n",
              "      <td>NaN</td>\n",
              "      <td>NaN</td>\n",
              "      <td>NaN</td>\n",
              "    </tr>\n",
              "    <tr>\n",
              "      <th>2</th>\n",
              "      <td>176559</td>\n",
              "      <td>Bose SoundSport Headphones</td>\n",
              "      <td>1</td>\n",
              "      <td>99.99</td>\n",
              "      <td>04/07/19 22:30</td>\n",
              "      <td>682 Chestnut St, Boston, MA 02215</td>\n",
              "    </tr>\n",
              "    <tr>\n",
              "      <th>3</th>\n",
              "      <td>176560</td>\n",
              "      <td>Google Phone</td>\n",
              "      <td>1</td>\n",
              "      <td>600</td>\n",
              "      <td>04/12/19 14:38</td>\n",
              "      <td>669 Spruce St, Los Angeles, CA 90001</td>\n",
              "    </tr>\n",
              "    <tr>\n",
              "      <th>4</th>\n",
              "      <td>176560</td>\n",
              "      <td>Wired Headphones</td>\n",
              "      <td>1</td>\n",
              "      <td>11.99</td>\n",
              "      <td>04/12/19 14:38</td>\n",
              "      <td>669 Spruce St, Los Angeles, CA 90001</td>\n",
              "    </tr>\n",
              "    <tr>\n",
              "      <th>...</th>\n",
              "      <td>...</td>\n",
              "      <td>...</td>\n",
              "      <td>...</td>\n",
              "      <td>...</td>\n",
              "      <td>...</td>\n",
              "      <td>...</td>\n",
              "    </tr>\n",
              "    <tr>\n",
              "      <th>11681</th>\n",
              "      <td>259353</td>\n",
              "      <td>AAA Batteries (4-pack)</td>\n",
              "      <td>3</td>\n",
              "      <td>2.99</td>\n",
              "      <td>09/17/19 20:56</td>\n",
              "      <td>840 Highland St, Los Angeles, CA 90001</td>\n",
              "    </tr>\n",
              "    <tr>\n",
              "      <th>11682</th>\n",
              "      <td>259354</td>\n",
              "      <td>iPhone</td>\n",
              "      <td>1</td>\n",
              "      <td>700</td>\n",
              "      <td>09/01/19 16:00</td>\n",
              "      <td>216 Dogwood St, San Francisco, CA 94016</td>\n",
              "    </tr>\n",
              "    <tr>\n",
              "      <th>11683</th>\n",
              "      <td>259355</td>\n",
              "      <td>iPhone</td>\n",
              "      <td>1</td>\n",
              "      <td>700</td>\n",
              "      <td>09/23/19 07:39</td>\n",
              "      <td>220 12th St, San Francisco, CA 94016</td>\n",
              "    </tr>\n",
              "    <tr>\n",
              "      <th>11684</th>\n",
              "      <td>259356</td>\n",
              "      <td>34in Ultrawide Monitor</td>\n",
              "      <td>1</td>\n",
              "      <td>379.99</td>\n",
              "      <td>09/19/19 17:30</td>\n",
              "      <td>511 Forest St, San Francisco, CA 94016</td>\n",
              "    </tr>\n",
              "    <tr>\n",
              "      <th>11685</th>\n",
              "      <td>259357</td>\n",
              "      <td>USB-C Charging Cable</td>\n",
              "      <td>1</td>\n",
              "      <td>11.95</td>\n",
              "      <td>09/30/19 00:18</td>\n",
              "      <td>250 Meadow St, San Francisco, CA 94016</td>\n",
              "    </tr>\n",
              "  </tbody>\n",
              "</table>\n",
              "<p>186850 rows × 6 columns</p>\n",
              "</div>"
            ],
            "text/plain": [
              "      Order ID                     Product Quantity Ordered Price Each  \\\n",
              "0       176558        USB-C Charging Cable                2      11.95   \n",
              "1          NaN                         NaN              NaN        NaN   \n",
              "2       176559  Bose SoundSport Headphones                1      99.99   \n",
              "3       176560                Google Phone                1        600   \n",
              "4       176560            Wired Headphones                1      11.99   \n",
              "...        ...                         ...              ...        ...   \n",
              "11681   259353      AAA Batteries (4-pack)                3       2.99   \n",
              "11682   259354                      iPhone                1        700   \n",
              "11683   259355                      iPhone                1        700   \n",
              "11684   259356      34in Ultrawide Monitor                1     379.99   \n",
              "11685   259357        USB-C Charging Cable                1      11.95   \n",
              "\n",
              "           Order Date                         Purchase Address  \n",
              "0      04/19/19 08:46             917 1st St, Dallas, TX 75001  \n",
              "1                 NaN                                      NaN  \n",
              "2      04/07/19 22:30        682 Chestnut St, Boston, MA 02215  \n",
              "3      04/12/19 14:38     669 Spruce St, Los Angeles, CA 90001  \n",
              "4      04/12/19 14:38     669 Spruce St, Los Angeles, CA 90001  \n",
              "...               ...                                      ...  \n",
              "11681  09/17/19 20:56   840 Highland St, Los Angeles, CA 90001  \n",
              "11682  09/01/19 16:00  216 Dogwood St, San Francisco, CA 94016  \n",
              "11683  09/23/19 07:39     220 12th St, San Francisco, CA 94016  \n",
              "11684  09/19/19 17:30   511 Forest St, San Francisco, CA 94016  \n",
              "11685  09/30/19 00:18   250 Meadow St, San Francisco, CA 94016  \n",
              "\n",
              "[186850 rows x 6 columns]"
            ]
          },
          "execution_count": 13,
          "metadata": {},
          "output_type": "execute_result"
        }
      ],
      "source": [
        "all_months_data"
      ]
    },
    {
      "cell_type": "markdown",
      "id": "fe7daa86",
      "metadata": {
        "id": "fe7daa86"
      },
      "source": [
        "To write the data from the data frame into a file, we can use the `to_csv` function. "
      ]
    },
    {
      "cell_type": "code",
      "execution_count": null,
      "id": "252c201d",
      "metadata": {
        "id": "252c201d"
      },
      "outputs": [],
      "source": [
        "all_months_data.to_csv(\"all_data.csv\", index=False)"
      ]
    },
    {
      "cell_type": "markdown",
      "id": "ac680c63",
      "metadata": {
        "id": "ac680c63"
      },
      "source": [
        "### 1.3 Read in updated dataframe"
      ]
    },
    {
      "cell_type": "code",
      "execution_count": null,
      "id": "f9542973",
      "metadata": {
        "id": "f9542973",
        "outputId": "6ec75e73-dd0c-4aee-966f-dfeeae028d17"
      },
      "outputs": [
        {
          "data": {
            "text/html": [
              "<div>\n",
              "<style scoped>\n",
              "    .dataframe tbody tr th:only-of-type {\n",
              "        vertical-align: middle;\n",
              "    }\n",
              "\n",
              "    .dataframe tbody tr th {\n",
              "        vertical-align: top;\n",
              "    }\n",
              "\n",
              "    .dataframe thead th {\n",
              "        text-align: right;\n",
              "    }\n",
              "</style>\n",
              "<table border=\"1\" class=\"dataframe\">\n",
              "  <thead>\n",
              "    <tr style=\"text-align: right;\">\n",
              "      <th></th>\n",
              "      <th>Order ID</th>\n",
              "      <th>Product</th>\n",
              "      <th>Quantity Ordered</th>\n",
              "      <th>Price Each</th>\n",
              "      <th>Order Date</th>\n",
              "      <th>Purchase Address</th>\n",
              "    </tr>\n",
              "  </thead>\n",
              "  <tbody>\n",
              "    <tr>\n",
              "      <th>0</th>\n",
              "      <td>176558</td>\n",
              "      <td>USB-C Charging Cable</td>\n",
              "      <td>2</td>\n",
              "      <td>11.95</td>\n",
              "      <td>04/19/19 08:46</td>\n",
              "      <td>917 1st St, Dallas, TX 75001</td>\n",
              "    </tr>\n",
              "    <tr>\n",
              "      <th>1</th>\n",
              "      <td>NaN</td>\n",
              "      <td>NaN</td>\n",
              "      <td>NaN</td>\n",
              "      <td>NaN</td>\n",
              "      <td>NaN</td>\n",
              "      <td>NaN</td>\n",
              "    </tr>\n",
              "    <tr>\n",
              "      <th>2</th>\n",
              "      <td>176559</td>\n",
              "      <td>Bose SoundSport Headphones</td>\n",
              "      <td>1</td>\n",
              "      <td>99.99</td>\n",
              "      <td>04/07/19 22:30</td>\n",
              "      <td>682 Chestnut St, Boston, MA 02215</td>\n",
              "    </tr>\n",
              "    <tr>\n",
              "      <th>3</th>\n",
              "      <td>176560</td>\n",
              "      <td>Google Phone</td>\n",
              "      <td>1</td>\n",
              "      <td>600</td>\n",
              "      <td>04/12/19 14:38</td>\n",
              "      <td>669 Spruce St, Los Angeles, CA 90001</td>\n",
              "    </tr>\n",
              "    <tr>\n",
              "      <th>4</th>\n",
              "      <td>176560</td>\n",
              "      <td>Wired Headphones</td>\n",
              "      <td>1</td>\n",
              "      <td>11.99</td>\n",
              "      <td>04/12/19 14:38</td>\n",
              "      <td>669 Spruce St, Los Angeles, CA 90001</td>\n",
              "    </tr>\n",
              "  </tbody>\n",
              "</table>\n",
              "</div>"
            ],
            "text/plain": [
              "  Order ID                     Product Quantity Ordered Price Each  \\\n",
              "0   176558        USB-C Charging Cable                2      11.95   \n",
              "1      NaN                         NaN              NaN        NaN   \n",
              "2   176559  Bose SoundSport Headphones                1      99.99   \n",
              "3   176560                Google Phone                1        600   \n",
              "4   176560            Wired Headphones                1      11.99   \n",
              "\n",
              "       Order Date                      Purchase Address  \n",
              "0  04/19/19 08:46          917 1st St, Dallas, TX 75001  \n",
              "1             NaN                                   NaN  \n",
              "2  04/07/19 22:30     682 Chestnut St, Boston, MA 02215  \n",
              "3  04/12/19 14:38  669 Spruce St, Los Angeles, CA 90001  \n",
              "4  04/12/19 14:38  669 Spruce St, Los Angeles, CA 90001  "
            ]
          },
          "execution_count": 15,
          "metadata": {},
          "output_type": "execute_result"
        }
      ],
      "source": [
        "all_data = pd.read_csv('/Users/vuhainam/Documents/PYTHON - Data Analysis')\n",
        "all_data.head()"
      ]
    },
    {
      "cell_type": "markdown",
      "id": "00c899e9",
      "metadata": {
        "id": "00c899e9"
      },
      "source": [
        "**Here's a summary of the functions & methods:**\n",
        "\n",
        "* `os.getcwd()` -  Check the present working directory\n",
        "* `os.listdir` - To get the list of files in a directory\n",
        "* `pd.DataFrame` - Create a `DataFrame` object\n",
        "* `.read_csv` - Read data from a CSV file into a Pandas `DataFrame` object\n",
        "* `pd.concat` - To concatenate/merge two or multiple pandas DataFrames across rows or columns\n",
        "* `.to_csv` - To write the data from the data frame into a file"
      ]
    },
    {
      "cell_type": "markdown",
      "id": "99cad31b",
      "metadata": {
        "id": "99cad31b"
      },
      "source": [
        "## 2. Understand data"
      ]
    },
    {
      "cell_type": "markdown",
      "id": "2ff5e7ac",
      "metadata": {
        "id": "2ff5e7ac"
      },
      "source": [
        "We can view some basic information about the data frame using the `.info` method."
      ]
    },
    {
      "cell_type": "code",
      "execution_count": null,
      "id": "b23e8ebc",
      "metadata": {
        "scrolled": true,
        "id": "b23e8ebc",
        "outputId": "17c2da71-4534-4170-fecf-7a52f7409e45"
      },
      "outputs": [
        {
          "name": "stdout",
          "output_type": "stream",
          "text": [
            "<class 'pandas.core.frame.DataFrame'>\n",
            "RangeIndex: 186850 entries, 0 to 186849\n",
            "Data columns (total 6 columns):\n",
            " #   Column            Non-Null Count   Dtype \n",
            "---  ------            --------------   ----- \n",
            " 0   Order ID          186305 non-null  object\n",
            " 1   Product           186305 non-null  object\n",
            " 2   Quantity Ordered  186305 non-null  object\n",
            " 3   Price Each        186305 non-null  object\n",
            " 4   Order Date        186305 non-null  object\n",
            " 5   Purchase Address  186305 non-null  object\n",
            "dtypes: object(6)\n",
            "memory usage: 8.6+ MB\n"
          ]
        }
      ],
      "source": [
        "all_data.???"
      ]
    },
    {
      "cell_type": "markdown",
      "id": "5814e919",
      "metadata": {
        "id": "5814e919"
      },
      "source": [
        "It appears that each column contains values of a specific data type. You can view statistical information for numerical columns (mean, standard deviation, minimum/maximum values, and the number of non-empty values) using the `.describe` method."
      ]
    },
    {
      "cell_type": "code",
      "execution_count": null,
      "id": "7d53a30d",
      "metadata": {
        "id": "7d53a30d",
        "outputId": "37c9c3c6-9293-46a4-b4e7-936bc602fdd2"
      },
      "outputs": [
        {
          "data": {
            "text/html": [
              "<div>\n",
              "<style scoped>\n",
              "    .dataframe tbody tr th:only-of-type {\n",
              "        vertical-align: middle;\n",
              "    }\n",
              "\n",
              "    .dataframe tbody tr th {\n",
              "        vertical-align: top;\n",
              "    }\n",
              "\n",
              "    .dataframe thead th {\n",
              "        text-align: right;\n",
              "    }\n",
              "</style>\n",
              "<table border=\"1\" class=\"dataframe\">\n",
              "  <thead>\n",
              "    <tr style=\"text-align: right;\">\n",
              "      <th></th>\n",
              "      <th>Order ID</th>\n",
              "      <th>Product</th>\n",
              "      <th>Quantity Ordered</th>\n",
              "      <th>Price Each</th>\n",
              "      <th>Order Date</th>\n",
              "      <th>Purchase Address</th>\n",
              "    </tr>\n",
              "  </thead>\n",
              "  <tbody>\n",
              "    <tr>\n",
              "      <th>count</th>\n",
              "      <td>186305</td>\n",
              "      <td>186305</td>\n",
              "      <td>186305</td>\n",
              "      <td>186305</td>\n",
              "      <td>186305</td>\n",
              "      <td>186305</td>\n",
              "    </tr>\n",
              "    <tr>\n",
              "      <th>unique</th>\n",
              "      <td>178438</td>\n",
              "      <td>20</td>\n",
              "      <td>10</td>\n",
              "      <td>24</td>\n",
              "      <td>142396</td>\n",
              "      <td>140788</td>\n",
              "    </tr>\n",
              "    <tr>\n",
              "      <th>top</th>\n",
              "      <td>Order ID</td>\n",
              "      <td>USB-C Charging Cable</td>\n",
              "      <td>1</td>\n",
              "      <td>11.95</td>\n",
              "      <td>Order Date</td>\n",
              "      <td>Purchase Address</td>\n",
              "    </tr>\n",
              "    <tr>\n",
              "      <th>freq</th>\n",
              "      <td>355</td>\n",
              "      <td>21903</td>\n",
              "      <td>168552</td>\n",
              "      <td>21903</td>\n",
              "      <td>355</td>\n",
              "      <td>355</td>\n",
              "    </tr>\n",
              "  </tbody>\n",
              "</table>\n",
              "</div>"
            ],
            "text/plain": [
              "        Order ID               Product Quantity Ordered Price Each  \\\n",
              "count     186305                186305           186305     186305   \n",
              "unique    178438                    20               10         24   \n",
              "top     Order ID  USB-C Charging Cable                1      11.95   \n",
              "freq         355                 21903           168552      21903   \n",
              "\n",
              "        Order Date  Purchase Address  \n",
              "count       186305            186305  \n",
              "unique      142396            140788  \n",
              "top     Order Date  Purchase Address  \n",
              "freq           355               355  "
            ]
          },
          "execution_count": 17,
          "metadata": {},
          "output_type": "execute_result"
        }
      ],
      "source": [
        "all_data.???"
      ]
    },
    {
      "cell_type": "markdown",
      "id": "579fe8e5",
      "metadata": {
        "id": "579fe8e5"
      },
      "source": [
        "We can use the `.head` and `.tail` methods to view the first or last few rows of data."
      ]
    },
    {
      "cell_type": "code",
      "execution_count": null,
      "id": "4ec424bd",
      "metadata": {
        "id": "4ec424bd",
        "outputId": "8011606c-c50a-4de3-9164-573c0fabc07e"
      },
      "outputs": [
        {
          "data": {
            "text/html": [
              "<div>\n",
              "<style scoped>\n",
              "    .dataframe tbody tr th:only-of-type {\n",
              "        vertical-align: middle;\n",
              "    }\n",
              "\n",
              "    .dataframe tbody tr th {\n",
              "        vertical-align: top;\n",
              "    }\n",
              "\n",
              "    .dataframe thead th {\n",
              "        text-align: right;\n",
              "    }\n",
              "</style>\n",
              "<table border=\"1\" class=\"dataframe\">\n",
              "  <thead>\n",
              "    <tr style=\"text-align: right;\">\n",
              "      <th></th>\n",
              "      <th>Order ID</th>\n",
              "      <th>Product</th>\n",
              "      <th>Quantity Ordered</th>\n",
              "      <th>Price Each</th>\n",
              "      <th>Order Date</th>\n",
              "      <th>Purchase Address</th>\n",
              "    </tr>\n",
              "  </thead>\n",
              "  <tbody>\n",
              "    <tr>\n",
              "      <th>0</th>\n",
              "      <td>176558</td>\n",
              "      <td>USB-C Charging Cable</td>\n",
              "      <td>2</td>\n",
              "      <td>11.95</td>\n",
              "      <td>04/19/19 08:46</td>\n",
              "      <td>917 1st St, Dallas, TX 75001</td>\n",
              "    </tr>\n",
              "    <tr>\n",
              "      <th>1</th>\n",
              "      <td>NaN</td>\n",
              "      <td>NaN</td>\n",
              "      <td>NaN</td>\n",
              "      <td>NaN</td>\n",
              "      <td>NaN</td>\n",
              "      <td>NaN</td>\n",
              "    </tr>\n",
              "    <tr>\n",
              "      <th>2</th>\n",
              "      <td>176559</td>\n",
              "      <td>Bose SoundSport Headphones</td>\n",
              "      <td>1</td>\n",
              "      <td>99.99</td>\n",
              "      <td>04/07/19 22:30</td>\n",
              "      <td>682 Chestnut St, Boston, MA 02215</td>\n",
              "    </tr>\n",
              "    <tr>\n",
              "      <th>3</th>\n",
              "      <td>176560</td>\n",
              "      <td>Google Phone</td>\n",
              "      <td>1</td>\n",
              "      <td>600</td>\n",
              "      <td>04/12/19 14:38</td>\n",
              "      <td>669 Spruce St, Los Angeles, CA 90001</td>\n",
              "    </tr>\n",
              "    <tr>\n",
              "      <th>4</th>\n",
              "      <td>176560</td>\n",
              "      <td>Wired Headphones</td>\n",
              "      <td>1</td>\n",
              "      <td>11.99</td>\n",
              "      <td>04/12/19 14:38</td>\n",
              "      <td>669 Spruce St, Los Angeles, CA 90001</td>\n",
              "    </tr>\n",
              "  </tbody>\n",
              "</table>\n",
              "</div>"
            ],
            "text/plain": [
              "  Order ID                     Product Quantity Ordered Price Each  \\\n",
              "0   176558        USB-C Charging Cable                2      11.95   \n",
              "1      NaN                         NaN              NaN        NaN   \n",
              "2   176559  Bose SoundSport Headphones                1      99.99   \n",
              "3   176560                Google Phone                1        600   \n",
              "4   176560            Wired Headphones                1      11.99   \n",
              "\n",
              "       Order Date                      Purchase Address  \n",
              "0  04/19/19 08:46          917 1st St, Dallas, TX 75001  \n",
              "1             NaN                                   NaN  \n",
              "2  04/07/19 22:30     682 Chestnut St, Boston, MA 02215  \n",
              "3  04/12/19 14:38  669 Spruce St, Los Angeles, CA 90001  \n",
              "4  04/12/19 14:38  669 Spruce St, Los Angeles, CA 90001  "
            ]
          },
          "execution_count": 18,
          "metadata": {},
          "output_type": "execute_result"
        }
      ],
      "source": [
        "all_data.head()"
      ]
    },
    {
      "cell_type": "code",
      "execution_count": null,
      "id": "5d31d9d1",
      "metadata": {
        "id": "5d31d9d1",
        "outputId": "6c205813-6ac9-45ba-cb3e-8556cb5546b0"
      },
      "outputs": [
        {
          "data": {
            "text/html": [
              "<div>\n",
              "<style scoped>\n",
              "    .dataframe tbody tr th:only-of-type {\n",
              "        vertical-align: middle;\n",
              "    }\n",
              "\n",
              "    .dataframe tbody tr th {\n",
              "        vertical-align: top;\n",
              "    }\n",
              "\n",
              "    .dataframe thead th {\n",
              "        text-align: right;\n",
              "    }\n",
              "</style>\n",
              "<table border=\"1\" class=\"dataframe\">\n",
              "  <thead>\n",
              "    <tr style=\"text-align: right;\">\n",
              "      <th></th>\n",
              "      <th>Order ID</th>\n",
              "      <th>Product</th>\n",
              "      <th>Quantity Ordered</th>\n",
              "      <th>Price Each</th>\n",
              "      <th>Order Date</th>\n",
              "      <th>Purchase Address</th>\n",
              "    </tr>\n",
              "  </thead>\n",
              "  <tbody>\n",
              "    <tr>\n",
              "      <th>186845</th>\n",
              "      <td>259353</td>\n",
              "      <td>AAA Batteries (4-pack)</td>\n",
              "      <td>3</td>\n",
              "      <td>2.99</td>\n",
              "      <td>09/17/19 20:56</td>\n",
              "      <td>840 Highland St, Los Angeles, CA 90001</td>\n",
              "    </tr>\n",
              "    <tr>\n",
              "      <th>186846</th>\n",
              "      <td>259354</td>\n",
              "      <td>iPhone</td>\n",
              "      <td>1</td>\n",
              "      <td>700</td>\n",
              "      <td>09/01/19 16:00</td>\n",
              "      <td>216 Dogwood St, San Francisco, CA 94016</td>\n",
              "    </tr>\n",
              "    <tr>\n",
              "      <th>186847</th>\n",
              "      <td>259355</td>\n",
              "      <td>iPhone</td>\n",
              "      <td>1</td>\n",
              "      <td>700</td>\n",
              "      <td>09/23/19 07:39</td>\n",
              "      <td>220 12th St, San Francisco, CA 94016</td>\n",
              "    </tr>\n",
              "    <tr>\n",
              "      <th>186848</th>\n",
              "      <td>259356</td>\n",
              "      <td>34in Ultrawide Monitor</td>\n",
              "      <td>1</td>\n",
              "      <td>379.99</td>\n",
              "      <td>09/19/19 17:30</td>\n",
              "      <td>511 Forest St, San Francisco, CA 94016</td>\n",
              "    </tr>\n",
              "    <tr>\n",
              "      <th>186849</th>\n",
              "      <td>259357</td>\n",
              "      <td>USB-C Charging Cable</td>\n",
              "      <td>1</td>\n",
              "      <td>11.95</td>\n",
              "      <td>09/30/19 00:18</td>\n",
              "      <td>250 Meadow St, San Francisco, CA 94016</td>\n",
              "    </tr>\n",
              "  </tbody>\n",
              "</table>\n",
              "</div>"
            ],
            "text/plain": [
              "       Order ID                 Product Quantity Ordered Price Each  \\\n",
              "186845   259353  AAA Batteries (4-pack)                3       2.99   \n",
              "186846   259354                  iPhone                1        700   \n",
              "186847   259355                  iPhone                1        700   \n",
              "186848   259356  34in Ultrawide Monitor                1     379.99   \n",
              "186849   259357    USB-C Charging Cable                1      11.95   \n",
              "\n",
              "            Order Date                         Purchase Address  \n",
              "186845  09/17/19 20:56   840 Highland St, Los Angeles, CA 90001  \n",
              "186846  09/01/19 16:00  216 Dogwood St, San Francisco, CA 94016  \n",
              "186847  09/23/19 07:39     220 12th St, San Francisco, CA 94016  \n",
              "186848  09/19/19 17:30   511 Forest St, San Francisco, CA 94016  \n",
              "186849  09/30/19 00:18   250 Meadow St, San Francisco, CA 94016  "
            ]
          },
          "execution_count": 19,
          "metadata": {},
          "output_type": "execute_result"
        }
      ],
      "source": [
        "all_data.tail()"
      ]
    },
    {
      "cell_type": "markdown",
      "id": "f1087dec",
      "metadata": {
        "id": "f1087dec"
      },
      "source": [
        "We can use the `.sample` method to retrieve a random sample of rows from the data frame."
      ]
    },
    {
      "cell_type": "code",
      "execution_count": null,
      "id": "99aa8d5c",
      "metadata": {
        "id": "99aa8d5c",
        "outputId": "4d872f1f-f857-4d30-dbeb-be45e6ff31dd"
      },
      "outputs": [
        {
          "data": {
            "text/html": [
              "<div>\n",
              "<style scoped>\n",
              "    .dataframe tbody tr th:only-of-type {\n",
              "        vertical-align: middle;\n",
              "    }\n",
              "\n",
              "    .dataframe tbody tr th {\n",
              "        vertical-align: top;\n",
              "    }\n",
              "\n",
              "    .dataframe thead th {\n",
              "        text-align: right;\n",
              "    }\n",
              "</style>\n",
              "<table border=\"1\" class=\"dataframe\">\n",
              "  <thead>\n",
              "    <tr style=\"text-align: right;\">\n",
              "      <th></th>\n",
              "      <th>Order ID</th>\n",
              "      <th>Product</th>\n",
              "      <th>Quantity Ordered</th>\n",
              "      <th>Price Each</th>\n",
              "      <th>Order Date</th>\n",
              "      <th>Purchase Address</th>\n",
              "    </tr>\n",
              "  </thead>\n",
              "  <tbody>\n",
              "    <tr>\n",
              "      <th>102207</th>\n",
              "      <td>219998</td>\n",
              "      <td>27in FHD Monitor</td>\n",
              "      <td>1</td>\n",
              "      <td>149.99</td>\n",
              "      <td>06/10/19 09:16</td>\n",
              "      <td>330 Wilson St, New York City, NY 10001</td>\n",
              "    </tr>\n",
              "    <tr>\n",
              "      <th>3227</th>\n",
              "      <td>179647</td>\n",
              "      <td>AAA Batteries (4-pack)</td>\n",
              "      <td>1</td>\n",
              "      <td>2.99</td>\n",
              "      <td>04/22/19 20:42</td>\n",
              "      <td>715 Madison St, Los Angeles, CA 90001</td>\n",
              "    </tr>\n",
              "    <tr>\n",
              "      <th>115788</th>\n",
              "      <td>172070</td>\n",
              "      <td>Lightning Charging Cable</td>\n",
              "      <td>1</td>\n",
              "      <td>14.95</td>\n",
              "      <td>03/08/19 22:32</td>\n",
              "      <td>51 14th St, Los Angeles, CA 90001</td>\n",
              "    </tr>\n",
              "    <tr>\n",
              "      <th>19235</th>\n",
              "      <td>237491</td>\n",
              "      <td>27in 4K Gaming Monitor</td>\n",
              "      <td>1</td>\n",
              "      <td>389.99</td>\n",
              "      <td>08/14/19 13:06</td>\n",
              "      <td>850 Hickory St, San Francisco, CA 94016</td>\n",
              "    </tr>\n",
              "    <tr>\n",
              "      <th>176878</th>\n",
              "      <td>249792</td>\n",
              "      <td>27in FHD Monitor</td>\n",
              "      <td>1</td>\n",
              "      <td>149.99</td>\n",
              "      <td>09/16/19 13:22</td>\n",
              "      <td>612 12th St, New York City, NY 10001</td>\n",
              "    </tr>\n",
              "  </tbody>\n",
              "</table>\n",
              "</div>"
            ],
            "text/plain": [
              "       Order ID                   Product Quantity Ordered Price Each  \\\n",
              "102207   219998          27in FHD Monitor                1     149.99   \n",
              "3227     179647    AAA Batteries (4-pack)                1       2.99   \n",
              "115788   172070  Lightning Charging Cable                1      14.95   \n",
              "19235    237491    27in 4K Gaming Monitor                1     389.99   \n",
              "176878   249792          27in FHD Monitor                1     149.99   \n",
              "\n",
              "            Order Date                         Purchase Address  \n",
              "102207  06/10/19 09:16   330 Wilson St, New York City, NY 10001  \n",
              "3227    04/22/19 20:42    715 Madison St, Los Angeles, CA 90001  \n",
              "115788  03/08/19 22:32        51 14th St, Los Angeles, CA 90001  \n",
              "19235   08/14/19 13:06  850 Hickory St, San Francisco, CA 94016  \n",
              "176878  09/16/19 13:22     612 12th St, New York City, NY 10001  "
            ]
          },
          "execution_count": 20,
          "metadata": {},
          "output_type": "execute_result"
        }
      ],
      "source": [
        "all_data.sample(5)"
      ]
    },
    {
      "cell_type": "markdown",
      "id": "3229692f",
      "metadata": {
        "id": "3229692f"
      },
      "source": [
        "The `columns` property contains the list of columns within the data frame."
      ]
    },
    {
      "cell_type": "code",
      "execution_count": null,
      "id": "67c848d2",
      "metadata": {
        "id": "67c848d2",
        "outputId": "36570582-4350-45de-f04a-0ffbbab10842"
      },
      "outputs": [
        {
          "data": {
            "text/plain": [
              "Index(['Order ID', 'Product', 'Quantity Ordered', 'Price Each', 'Order Date',\n",
              "       'Purchase Address'],\n",
              "      dtype='object')"
            ]
          },
          "execution_count": 21,
          "metadata": {},
          "output_type": "execute_result"
        }
      ],
      "source": [
        "all_data.columns"
      ]
    },
    {
      "cell_type": "markdown",
      "id": "7d3a1ef3",
      "metadata": {
        "id": "7d3a1ef3"
      },
      "source": [
        "Method `.unique` use to find the unique values from a series"
      ]
    },
    {
      "cell_type": "code",
      "execution_count": null,
      "id": "830763b6",
      "metadata": {
        "id": "830763b6",
        "outputId": "2c509c50-9d33-4756-eb4b-6800ac5aa86a"
      },
      "outputs": [
        {
          "data": {
            "text/plain": [
              "array(['USB-C Charging Cable', nan, 'Bose SoundSport Headphones',\n",
              "       'Google Phone', 'Wired Headphones', 'Macbook Pro Laptop',\n",
              "       'Lightning Charging Cable', '27in 4K Gaming Monitor',\n",
              "       'AA Batteries (4-pack)', 'Apple Airpods Headphones',\n",
              "       'AAA Batteries (4-pack)', 'iPhone', 'Flatscreen TV',\n",
              "       '27in FHD Monitor', '20in Monitor', 'LG Dryer', 'ThinkPad Laptop',\n",
              "       'Vareebadd Phone', 'LG Washing Machine', '34in Ultrawide Monitor',\n",
              "       'Product'], dtype=object)"
            ]
          },
          "execution_count": 22,
          "metadata": {},
          "output_type": "execute_result"
        }
      ],
      "source": [
        "all_data['Product'].unique()"
      ]
    },
    {
      "cell_type": "markdown",
      "id": "f08ee840",
      "metadata": {
        "id": "f08ee840"
      },
      "source": [
        "**Here's a summary of the functions & methods :**\n",
        "* `.info()` - View basic infomation about rows, columns & data types\n",
        "* `.describe()` - View statistical information about numeric columns\n",
        "* `.sample` - To retrieve a random sample of rows from the data frame.\n",
        "* `.head` and `.tail` - To view the first or last few rows of data.\n",
        "*  `.columns` - Property contains the list of columns within the data frame\n",
        "* `.unique` - To find the unique values from a series"
      ]
    },
    {
      "cell_type": "markdown",
      "id": "b9678608",
      "metadata": {
        "id": "b9678608"
      },
      "source": [
        "## 3. Clean up the data!\n"
      ]
    },
    {
      "cell_type": "markdown",
      "id": "db1f16c2",
      "metadata": {
        "id": "db1f16c2"
      },
      "source": [
        "### 3.1 Drop rows of NAN"
      ]
    },
    {
      "cell_type": "markdown",
      "id": "69f5ff32",
      "metadata": {
        "id": "69f5ff32"
      },
      "source": [
        "We can use the `.isna()` to dectect missing values"
      ]
    },
    {
      "cell_type": "code",
      "execution_count": null,
      "id": "8097daf5",
      "metadata": {
        "id": "8097daf5",
        "outputId": "61de95f3-6503-4b69-b6b1-51b227290190"
      },
      "outputs": [
        {
          "data": {
            "text/html": [
              "<div>\n",
              "<style scoped>\n",
              "    .dataframe tbody tr th:only-of-type {\n",
              "        vertical-align: middle;\n",
              "    }\n",
              "\n",
              "    .dataframe tbody tr th {\n",
              "        vertical-align: top;\n",
              "    }\n",
              "\n",
              "    .dataframe thead th {\n",
              "        text-align: right;\n",
              "    }\n",
              "</style>\n",
              "<table border=\"1\" class=\"dataframe\">\n",
              "  <thead>\n",
              "    <tr style=\"text-align: right;\">\n",
              "      <th></th>\n",
              "      <th>Order ID</th>\n",
              "      <th>Product</th>\n",
              "      <th>Quantity Ordered</th>\n",
              "      <th>Price Each</th>\n",
              "      <th>Order Date</th>\n",
              "      <th>Purchase Address</th>\n",
              "    </tr>\n",
              "  </thead>\n",
              "  <tbody>\n",
              "    <tr>\n",
              "      <th>0</th>\n",
              "      <td>False</td>\n",
              "      <td>False</td>\n",
              "      <td>False</td>\n",
              "      <td>False</td>\n",
              "      <td>False</td>\n",
              "      <td>False</td>\n",
              "    </tr>\n",
              "    <tr>\n",
              "      <th>1</th>\n",
              "      <td>True</td>\n",
              "      <td>True</td>\n",
              "      <td>True</td>\n",
              "      <td>True</td>\n",
              "      <td>True</td>\n",
              "      <td>True</td>\n",
              "    </tr>\n",
              "    <tr>\n",
              "      <th>2</th>\n",
              "      <td>False</td>\n",
              "      <td>False</td>\n",
              "      <td>False</td>\n",
              "      <td>False</td>\n",
              "      <td>False</td>\n",
              "      <td>False</td>\n",
              "    </tr>\n",
              "    <tr>\n",
              "      <th>3</th>\n",
              "      <td>False</td>\n",
              "      <td>False</td>\n",
              "      <td>False</td>\n",
              "      <td>False</td>\n",
              "      <td>False</td>\n",
              "      <td>False</td>\n",
              "    </tr>\n",
              "    <tr>\n",
              "      <th>4</th>\n",
              "      <td>False</td>\n",
              "      <td>False</td>\n",
              "      <td>False</td>\n",
              "      <td>False</td>\n",
              "      <td>False</td>\n",
              "      <td>False</td>\n",
              "    </tr>\n",
              "    <tr>\n",
              "      <th>...</th>\n",
              "      <td>...</td>\n",
              "      <td>...</td>\n",
              "      <td>...</td>\n",
              "      <td>...</td>\n",
              "      <td>...</td>\n",
              "      <td>...</td>\n",
              "    </tr>\n",
              "    <tr>\n",
              "      <th>186845</th>\n",
              "      <td>False</td>\n",
              "      <td>False</td>\n",
              "      <td>False</td>\n",
              "      <td>False</td>\n",
              "      <td>False</td>\n",
              "      <td>False</td>\n",
              "    </tr>\n",
              "    <tr>\n",
              "      <th>186846</th>\n",
              "      <td>False</td>\n",
              "      <td>False</td>\n",
              "      <td>False</td>\n",
              "      <td>False</td>\n",
              "      <td>False</td>\n",
              "      <td>False</td>\n",
              "    </tr>\n",
              "    <tr>\n",
              "      <th>186847</th>\n",
              "      <td>False</td>\n",
              "      <td>False</td>\n",
              "      <td>False</td>\n",
              "      <td>False</td>\n",
              "      <td>False</td>\n",
              "      <td>False</td>\n",
              "    </tr>\n",
              "    <tr>\n",
              "      <th>186848</th>\n",
              "      <td>False</td>\n",
              "      <td>False</td>\n",
              "      <td>False</td>\n",
              "      <td>False</td>\n",
              "      <td>False</td>\n",
              "      <td>False</td>\n",
              "    </tr>\n",
              "    <tr>\n",
              "      <th>186849</th>\n",
              "      <td>False</td>\n",
              "      <td>False</td>\n",
              "      <td>False</td>\n",
              "      <td>False</td>\n",
              "      <td>False</td>\n",
              "      <td>False</td>\n",
              "    </tr>\n",
              "  </tbody>\n",
              "</table>\n",
              "<p>186850 rows × 6 columns</p>\n",
              "</div>"
            ],
            "text/plain": [
              "        Order ID  Product  Quantity Ordered  Price Each  Order Date  \\\n",
              "0          False    False             False       False       False   \n",
              "1           True     True              True        True        True   \n",
              "2          False    False             False       False       False   \n",
              "3          False    False             False       False       False   \n",
              "4          False    False             False       False       False   \n",
              "...          ...      ...               ...         ...         ...   \n",
              "186845     False    False             False       False       False   \n",
              "186846     False    False             False       False       False   \n",
              "186847     False    False             False       False       False   \n",
              "186848     False    False             False       False       False   \n",
              "186849     False    False             False       False       False   \n",
              "\n",
              "        Purchase Address  \n",
              "0                  False  \n",
              "1                   True  \n",
              "2                  False  \n",
              "3                  False  \n",
              "4                  False  \n",
              "...                  ...  \n",
              "186845             False  \n",
              "186846             False  \n",
              "186847             False  \n",
              "186848             False  \n",
              "186849             False  \n",
              "\n",
              "[186850 rows x 6 columns]"
            ]
          },
          "execution_count": 23,
          "metadata": {},
          "output_type": "execute_result"
        }
      ],
      "source": [
        "all_data.isna()"
      ]
    },
    {
      "cell_type": "markdown",
      "id": "fe9f095d",
      "metadata": {
        "id": "fe9f095d"
      },
      "source": [
        "And `.any()`  to dectect whether any element is True, potentially over an axis with parameter `axis` {0 or ‘index’, 1 or ‘columns’}, default 0"
      ]
    },
    {
      "cell_type": "code",
      "execution_count": null,
      "id": "c5bb35c2",
      "metadata": {
        "id": "c5bb35c2",
        "outputId": "ce3d69d7-cf57-485a-c888-917d1c2e05cf"
      },
      "outputs": [
        {
          "data": {
            "text/html": [
              "<div>\n",
              "<style scoped>\n",
              "    .dataframe tbody tr th:only-of-type {\n",
              "        vertical-align: middle;\n",
              "    }\n",
              "\n",
              "    .dataframe tbody tr th {\n",
              "        vertical-align: top;\n",
              "    }\n",
              "\n",
              "    .dataframe thead th {\n",
              "        text-align: right;\n",
              "    }\n",
              "</style>\n",
              "<table border=\"1\" class=\"dataframe\">\n",
              "  <thead>\n",
              "    <tr style=\"text-align: right;\">\n",
              "      <th></th>\n",
              "      <th>Order ID</th>\n",
              "      <th>Product</th>\n",
              "      <th>Quantity Ordered</th>\n",
              "      <th>Price Each</th>\n",
              "      <th>Order Date</th>\n",
              "      <th>Purchase Address</th>\n",
              "    </tr>\n",
              "  </thead>\n",
              "  <tbody>\n",
              "    <tr>\n",
              "      <th>1</th>\n",
              "      <td>NaN</td>\n",
              "      <td>NaN</td>\n",
              "      <td>NaN</td>\n",
              "      <td>NaN</td>\n",
              "      <td>NaN</td>\n",
              "      <td>NaN</td>\n",
              "    </tr>\n",
              "    <tr>\n",
              "      <th>356</th>\n",
              "      <td>NaN</td>\n",
              "      <td>NaN</td>\n",
              "      <td>NaN</td>\n",
              "      <td>NaN</td>\n",
              "      <td>NaN</td>\n",
              "      <td>NaN</td>\n",
              "    </tr>\n",
              "    <tr>\n",
              "      <th>735</th>\n",
              "      <td>NaN</td>\n",
              "      <td>NaN</td>\n",
              "      <td>NaN</td>\n",
              "      <td>NaN</td>\n",
              "      <td>NaN</td>\n",
              "      <td>NaN</td>\n",
              "    </tr>\n",
              "    <tr>\n",
              "      <th>1433</th>\n",
              "      <td>NaN</td>\n",
              "      <td>NaN</td>\n",
              "      <td>NaN</td>\n",
              "      <td>NaN</td>\n",
              "      <td>NaN</td>\n",
              "      <td>NaN</td>\n",
              "    </tr>\n",
              "    <tr>\n",
              "      <th>1553</th>\n",
              "      <td>NaN</td>\n",
              "      <td>NaN</td>\n",
              "      <td>NaN</td>\n",
              "      <td>NaN</td>\n",
              "      <td>NaN</td>\n",
              "      <td>NaN</td>\n",
              "    </tr>\n",
              "  </tbody>\n",
              "</table>\n",
              "</div>"
            ],
            "text/plain": [
              "     Order ID Product Quantity Ordered Price Each Order Date Purchase Address\n",
              "1         NaN     NaN              NaN        NaN        NaN              NaN\n",
              "356       NaN     NaN              NaN        NaN        NaN              NaN\n",
              "735       NaN     NaN              NaN        NaN        NaN              NaN\n",
              "1433      NaN     NaN              NaN        NaN        NaN              NaN\n",
              "1553      NaN     NaN              NaN        NaN        NaN              NaN"
            ]
          },
          "execution_count": 24,
          "metadata": {},
          "output_type": "execute_result"
        }
      ],
      "source": [
        "# Find NAN\n",
        "nan_df = all_data[all_data.isna().any(axis=1)] # bất cứ cột nào có dữ liệu trống -> trả về giá trị NULL\n",
        "nan_df.head()"
      ]
    },
    {
      "cell_type": "markdown",
      "id": "2372f269",
      "metadata": {
        "id": "2372f269"
      },
      "source": [
        "We can use `.dropna` to drop na values base on axis."
      ]
    },
    {
      "cell_type": "code",
      "execution_count": null,
      "id": "861e3684",
      "metadata": {
        "id": "861e3684",
        "outputId": "bc25c46d-f113-4ae2-cc9d-b48eed1bd506"
      },
      "outputs": [
        {
          "data": {
            "text/html": [
              "<div>\n",
              "<style scoped>\n",
              "    .dataframe tbody tr th:only-of-type {\n",
              "        vertical-align: middle;\n",
              "    }\n",
              "\n",
              "    .dataframe tbody tr th {\n",
              "        vertical-align: top;\n",
              "    }\n",
              "\n",
              "    .dataframe thead th {\n",
              "        text-align: right;\n",
              "    }\n",
              "</style>\n",
              "<table border=\"1\" class=\"dataframe\">\n",
              "  <thead>\n",
              "    <tr style=\"text-align: right;\">\n",
              "      <th></th>\n",
              "      <th>Order ID</th>\n",
              "      <th>Product</th>\n",
              "      <th>Quantity Ordered</th>\n",
              "      <th>Price Each</th>\n",
              "      <th>Order Date</th>\n",
              "      <th>Purchase Address</th>\n",
              "    </tr>\n",
              "  </thead>\n",
              "  <tbody>\n",
              "    <tr>\n",
              "      <th>0</th>\n",
              "      <td>176558</td>\n",
              "      <td>USB-C Charging Cable</td>\n",
              "      <td>2</td>\n",
              "      <td>11.95</td>\n",
              "      <td>04/19/19 08:46</td>\n",
              "      <td>917 1st St, Dallas, TX 75001</td>\n",
              "    </tr>\n",
              "    <tr>\n",
              "      <th>2</th>\n",
              "      <td>176559</td>\n",
              "      <td>Bose SoundSport Headphones</td>\n",
              "      <td>1</td>\n",
              "      <td>99.99</td>\n",
              "      <td>04/07/19 22:30</td>\n",
              "      <td>682 Chestnut St, Boston, MA 02215</td>\n",
              "    </tr>\n",
              "    <tr>\n",
              "      <th>3</th>\n",
              "      <td>176560</td>\n",
              "      <td>Google Phone</td>\n",
              "      <td>1</td>\n",
              "      <td>600</td>\n",
              "      <td>04/12/19 14:38</td>\n",
              "      <td>669 Spruce St, Los Angeles, CA 90001</td>\n",
              "    </tr>\n",
              "    <tr>\n",
              "      <th>4</th>\n",
              "      <td>176560</td>\n",
              "      <td>Wired Headphones</td>\n",
              "      <td>1</td>\n",
              "      <td>11.99</td>\n",
              "      <td>04/12/19 14:38</td>\n",
              "      <td>669 Spruce St, Los Angeles, CA 90001</td>\n",
              "    </tr>\n",
              "    <tr>\n",
              "      <th>5</th>\n",
              "      <td>176561</td>\n",
              "      <td>Wired Headphones</td>\n",
              "      <td>1</td>\n",
              "      <td>11.99</td>\n",
              "      <td>04/30/19 09:27</td>\n",
              "      <td>333 8th St, Los Angeles, CA 90001</td>\n",
              "    </tr>\n",
              "  </tbody>\n",
              "</table>\n",
              "</div>"
            ],
            "text/plain": [
              "  Order ID                     Product Quantity Ordered Price Each  \\\n",
              "0   176558        USB-C Charging Cable                2      11.95   \n",
              "2   176559  Bose SoundSport Headphones                1      99.99   \n",
              "3   176560                Google Phone                1        600   \n",
              "4   176560            Wired Headphones                1      11.99   \n",
              "5   176561            Wired Headphones                1      11.99   \n",
              "\n",
              "       Order Date                      Purchase Address  \n",
              "0  04/19/19 08:46          917 1st St, Dallas, TX 75001  \n",
              "2  04/07/19 22:30     682 Chestnut St, Boston, MA 02215  \n",
              "3  04/12/19 14:38  669 Spruce St, Los Angeles, CA 90001  \n",
              "4  04/12/19 14:38  669 Spruce St, Los Angeles, CA 90001  \n",
              "5  04/30/19 09:27     333 8th St, Los Angeles, CA 90001  "
            ]
          },
          "execution_count": 25,
          "metadata": {},
          "output_type": "execute_result"
        }
      ],
      "source": [
        "all_data = all_data.dropna(how='any')\n",
        "all_data.head()"
      ]
    },
    {
      "cell_type": "markdown",
      "id": "333fc633",
      "metadata": {
        "id": "333fc633"
      },
      "source": [
        "### 3.2 Get rid of text in `Order Date` column"
      ]
    },
    {
      "cell_type": "markdown",
      "id": "891da397",
      "metadata": {
        "id": "891da397"
      },
      "source": [
        "For DataFrame label-indexing on the rows, indexing operators `.loc` and `.iloc`,they enable you to select a subset of the rows and columns from a DataFrame with NumPy-like notation using either axis labels (`.loc`) or integers (`.iloc`)."
      ]
    },
    {
      "cell_type": "code",
      "execution_count": null,
      "id": "007554ec",
      "metadata": {
        "id": "007554ec",
        "outputId": "6841b204-21eb-4c79-9784-93c766112b4c"
      },
      "outputs": [
        {
          "data": {
            "text/plain": [
              "Order ID                    Order ID\n",
              "Product                      Product\n",
              "Quantity Ordered    Quantity Ordered\n",
              "Price Each                Price Each\n",
              "Order Date                Order Date\n",
              "Purchase Address    Purchase Address\n",
              "Name: 519, dtype: object"
            ]
          },
          "execution_count": 26,
          "metadata": {},
          "output_type": "execute_result"
        }
      ],
      "source": [
        "all_data.loc[519]"
      ]
    },
    {
      "cell_type": "markdown",
      "id": "315fe672",
      "metadata": {
        "id": "315fe672"
      },
      "source": [
        "Find text in `Order Date` column"
      ]
    },
    {
      "cell_type": "code",
      "execution_count": null,
      "id": "c4a74aa0",
      "metadata": {
        "id": "c4a74aa0",
        "outputId": "777e556a-5f84-42fd-c09a-8c644b174369"
      },
      "outputs": [
        {
          "data": {
            "text/html": [
              "<div>\n",
              "<style scoped>\n",
              "    .dataframe tbody tr th:only-of-type {\n",
              "        vertical-align: middle;\n",
              "    }\n",
              "\n",
              "    .dataframe tbody tr th {\n",
              "        vertical-align: top;\n",
              "    }\n",
              "\n",
              "    .dataframe thead th {\n",
              "        text-align: right;\n",
              "    }\n",
              "</style>\n",
              "<table border=\"1\" class=\"dataframe\">\n",
              "  <thead>\n",
              "    <tr style=\"text-align: right;\">\n",
              "      <th></th>\n",
              "      <th>Order ID</th>\n",
              "      <th>Product</th>\n",
              "      <th>Quantity Ordered</th>\n",
              "      <th>Price Each</th>\n",
              "      <th>Order Date</th>\n",
              "      <th>Purchase Address</th>\n",
              "    </tr>\n",
              "  </thead>\n",
              "  <tbody>\n",
              "    <tr>\n",
              "      <th>519</th>\n",
              "      <td>Order ID</td>\n",
              "      <td>Product</td>\n",
              "      <td>Quantity Ordered</td>\n",
              "      <td>Price Each</td>\n",
              "      <td>Order Date</td>\n",
              "      <td>Purchase Address</td>\n",
              "    </tr>\n",
              "    <tr>\n",
              "      <th>1149</th>\n",
              "      <td>Order ID</td>\n",
              "      <td>Product</td>\n",
              "      <td>Quantity Ordered</td>\n",
              "      <td>Price Each</td>\n",
              "      <td>Order Date</td>\n",
              "      <td>Purchase Address</td>\n",
              "    </tr>\n",
              "    <tr>\n",
              "      <th>1155</th>\n",
              "      <td>Order ID</td>\n",
              "      <td>Product</td>\n",
              "      <td>Quantity Ordered</td>\n",
              "      <td>Price Each</td>\n",
              "      <td>Order Date</td>\n",
              "      <td>Purchase Address</td>\n",
              "    </tr>\n",
              "    <tr>\n",
              "      <th>2878</th>\n",
              "      <td>Order ID</td>\n",
              "      <td>Product</td>\n",
              "      <td>Quantity Ordered</td>\n",
              "      <td>Price Each</td>\n",
              "      <td>Order Date</td>\n",
              "      <td>Purchase Address</td>\n",
              "    </tr>\n",
              "    <tr>\n",
              "      <th>2893</th>\n",
              "      <td>Order ID</td>\n",
              "      <td>Product</td>\n",
              "      <td>Quantity Ordered</td>\n",
              "      <td>Price Each</td>\n",
              "      <td>Order Date</td>\n",
              "      <td>Purchase Address</td>\n",
              "    </tr>\n",
              "    <tr>\n",
              "      <th>...</th>\n",
              "      <td>...</td>\n",
              "      <td>...</td>\n",
              "      <td>...</td>\n",
              "      <td>...</td>\n",
              "      <td>...</td>\n",
              "      <td>...</td>\n",
              "    </tr>\n",
              "    <tr>\n",
              "      <th>185164</th>\n",
              "      <td>Order ID</td>\n",
              "      <td>Product</td>\n",
              "      <td>Quantity Ordered</td>\n",
              "      <td>Price Each</td>\n",
              "      <td>Order Date</td>\n",
              "      <td>Purchase Address</td>\n",
              "    </tr>\n",
              "    <tr>\n",
              "      <th>185551</th>\n",
              "      <td>Order ID</td>\n",
              "      <td>Product</td>\n",
              "      <td>Quantity Ordered</td>\n",
              "      <td>Price Each</td>\n",
              "      <td>Order Date</td>\n",
              "      <td>Purchase Address</td>\n",
              "    </tr>\n",
              "    <tr>\n",
              "      <th>186563</th>\n",
              "      <td>Order ID</td>\n",
              "      <td>Product</td>\n",
              "      <td>Quantity Ordered</td>\n",
              "      <td>Price Each</td>\n",
              "      <td>Order Date</td>\n",
              "      <td>Purchase Address</td>\n",
              "    </tr>\n",
              "    <tr>\n",
              "      <th>186632</th>\n",
              "      <td>Order ID</td>\n",
              "      <td>Product</td>\n",
              "      <td>Quantity Ordered</td>\n",
              "      <td>Price Each</td>\n",
              "      <td>Order Date</td>\n",
              "      <td>Purchase Address</td>\n",
              "    </tr>\n",
              "    <tr>\n",
              "      <th>186738</th>\n",
              "      <td>Order ID</td>\n",
              "      <td>Product</td>\n",
              "      <td>Quantity Ordered</td>\n",
              "      <td>Price Each</td>\n",
              "      <td>Order Date</td>\n",
              "      <td>Purchase Address</td>\n",
              "    </tr>\n",
              "  </tbody>\n",
              "</table>\n",
              "<p>355 rows × 6 columns</p>\n",
              "</div>"
            ],
            "text/plain": [
              "        Order ID  Product  Quantity Ordered  Price Each  Order Date  \\\n",
              "519     Order ID  Product  Quantity Ordered  Price Each  Order Date   \n",
              "1149    Order ID  Product  Quantity Ordered  Price Each  Order Date   \n",
              "1155    Order ID  Product  Quantity Ordered  Price Each  Order Date   \n",
              "2878    Order ID  Product  Quantity Ordered  Price Each  Order Date   \n",
              "2893    Order ID  Product  Quantity Ordered  Price Each  Order Date   \n",
              "...          ...      ...               ...         ...         ...   \n",
              "185164  Order ID  Product  Quantity Ordered  Price Each  Order Date   \n",
              "185551  Order ID  Product  Quantity Ordered  Price Each  Order Date   \n",
              "186563  Order ID  Product  Quantity Ordered  Price Each  Order Date   \n",
              "186632  Order ID  Product  Quantity Ordered  Price Each  Order Date   \n",
              "186738  Order ID  Product  Quantity Ordered  Price Each  Order Date   \n",
              "\n",
              "        Purchase Address  \n",
              "519     Purchase Address  \n",
              "1149    Purchase Address  \n",
              "1155    Purchase Address  \n",
              "2878    Purchase Address  \n",
              "2893    Purchase Address  \n",
              "...                  ...  \n",
              "185164  Purchase Address  \n",
              "185551  Purchase Address  \n",
              "186563  Purchase Address  \n",
              "186632  Purchase Address  \n",
              "186738  Purchase Address  \n",
              "\n",
              "[355 rows x 6 columns]"
            ]
          },
          "execution_count": 27,
          "metadata": {},
          "output_type": "execute_result"
        }
      ],
      "source": [
        "all_data.loc[all_data['Order Date'].str[0:2]=='Or']"
      ]
    },
    {
      "cell_type": "code",
      "execution_count": null,
      "id": "2830950e",
      "metadata": {
        "id": "2830950e"
      },
      "outputs": [],
      "source": [
        "all_data = all_data.loc[all_data['Order Date'].str[0:2]!='Or']"
      ]
    },
    {
      "cell_type": "code",
      "execution_count": null,
      "id": "07366af2",
      "metadata": {
        "id": "07366af2",
        "outputId": "71e3f21d-33e5-4a81-9075-1990fd25af64"
      },
      "outputs": [
        {
          "data": {
            "text/html": [
              "<div>\n",
              "<style scoped>\n",
              "    .dataframe tbody tr th:only-of-type {\n",
              "        vertical-align: middle;\n",
              "    }\n",
              "\n",
              "    .dataframe tbody tr th {\n",
              "        vertical-align: top;\n",
              "    }\n",
              "\n",
              "    .dataframe thead th {\n",
              "        text-align: right;\n",
              "    }\n",
              "</style>\n",
              "<table border=\"1\" class=\"dataframe\">\n",
              "  <thead>\n",
              "    <tr style=\"text-align: right;\">\n",
              "      <th></th>\n",
              "      <th>Order ID</th>\n",
              "      <th>Product</th>\n",
              "      <th>Quantity Ordered</th>\n",
              "      <th>Price Each</th>\n",
              "      <th>Order Date</th>\n",
              "      <th>Purchase Address</th>\n",
              "    </tr>\n",
              "  </thead>\n",
              "  <tbody>\n",
              "  </tbody>\n",
              "</table>\n",
              "</div>"
            ],
            "text/plain": [
              "Empty DataFrame\n",
              "Columns: [Order ID, Product, Quantity Ordered, Price Each, Order Date, Purchase Address]\n",
              "Index: []"
            ]
          },
          "execution_count": 29,
          "metadata": {},
          "output_type": "execute_result"
        }
      ],
      "source": [
        "# Check again\n",
        "all_data.loc[all_data['Order Date'].str[0:2]=='Or']"
      ]
    },
    {
      "cell_type": "code",
      "execution_count": null,
      "id": "5d76782c",
      "metadata": {
        "id": "5d76782c",
        "outputId": "a473a76a-f124-4847-ab83-145a8535c1e3"
      },
      "outputs": [
        {
          "data": {
            "text/html": [
              "<div>\n",
              "<style scoped>\n",
              "    .dataframe tbody tr th:only-of-type {\n",
              "        vertical-align: middle;\n",
              "    }\n",
              "\n",
              "    .dataframe tbody tr th {\n",
              "        vertical-align: top;\n",
              "    }\n",
              "\n",
              "    .dataframe thead th {\n",
              "        text-align: right;\n",
              "    }\n",
              "</style>\n",
              "<table border=\"1\" class=\"dataframe\">\n",
              "  <thead>\n",
              "    <tr style=\"text-align: right;\">\n",
              "      <th></th>\n",
              "      <th>Order ID</th>\n",
              "      <th>Product</th>\n",
              "      <th>Quantity Ordered</th>\n",
              "      <th>Price Each</th>\n",
              "      <th>Order Date</th>\n",
              "      <th>Purchase Address</th>\n",
              "    </tr>\n",
              "  </thead>\n",
              "  <tbody>\n",
              "    <tr>\n",
              "      <th>0</th>\n",
              "      <td>176558</td>\n",
              "      <td>USB-C Charging Cable</td>\n",
              "      <td>2</td>\n",
              "      <td>11.95</td>\n",
              "      <td>04/19/19 08:46</td>\n",
              "      <td>917 1st St, Dallas, TX 75001</td>\n",
              "    </tr>\n",
              "    <tr>\n",
              "      <th>2</th>\n",
              "      <td>176559</td>\n",
              "      <td>Bose SoundSport Headphones</td>\n",
              "      <td>1</td>\n",
              "      <td>99.99</td>\n",
              "      <td>04/07/19 22:30</td>\n",
              "      <td>682 Chestnut St, Boston, MA 02215</td>\n",
              "    </tr>\n",
              "    <tr>\n",
              "      <th>3</th>\n",
              "      <td>176560</td>\n",
              "      <td>Google Phone</td>\n",
              "      <td>1</td>\n",
              "      <td>600</td>\n",
              "      <td>04/12/19 14:38</td>\n",
              "      <td>669 Spruce St, Los Angeles, CA 90001</td>\n",
              "    </tr>\n",
              "    <tr>\n",
              "      <th>4</th>\n",
              "      <td>176560</td>\n",
              "      <td>Wired Headphones</td>\n",
              "      <td>1</td>\n",
              "      <td>11.99</td>\n",
              "      <td>04/12/19 14:38</td>\n",
              "      <td>669 Spruce St, Los Angeles, CA 90001</td>\n",
              "    </tr>\n",
              "    <tr>\n",
              "      <th>5</th>\n",
              "      <td>176561</td>\n",
              "      <td>Wired Headphones</td>\n",
              "      <td>1</td>\n",
              "      <td>11.99</td>\n",
              "      <td>04/30/19 09:27</td>\n",
              "      <td>333 8th St, Los Angeles, CA 90001</td>\n",
              "    </tr>\n",
              "    <tr>\n",
              "      <th>...</th>\n",
              "      <td>...</td>\n",
              "      <td>...</td>\n",
              "      <td>...</td>\n",
              "      <td>...</td>\n",
              "      <td>...</td>\n",
              "      <td>...</td>\n",
              "    </tr>\n",
              "    <tr>\n",
              "      <th>186845</th>\n",
              "      <td>259353</td>\n",
              "      <td>AAA Batteries (4-pack)</td>\n",
              "      <td>3</td>\n",
              "      <td>2.99</td>\n",
              "      <td>09/17/19 20:56</td>\n",
              "      <td>840 Highland St, Los Angeles, CA 90001</td>\n",
              "    </tr>\n",
              "    <tr>\n",
              "      <th>186846</th>\n",
              "      <td>259354</td>\n",
              "      <td>iPhone</td>\n",
              "      <td>1</td>\n",
              "      <td>700</td>\n",
              "      <td>09/01/19 16:00</td>\n",
              "      <td>216 Dogwood St, San Francisco, CA 94016</td>\n",
              "    </tr>\n",
              "    <tr>\n",
              "      <th>186847</th>\n",
              "      <td>259355</td>\n",
              "      <td>iPhone</td>\n",
              "      <td>1</td>\n",
              "      <td>700</td>\n",
              "      <td>09/23/19 07:39</td>\n",
              "      <td>220 12th St, San Francisco, CA 94016</td>\n",
              "    </tr>\n",
              "    <tr>\n",
              "      <th>186848</th>\n",
              "      <td>259356</td>\n",
              "      <td>34in Ultrawide Monitor</td>\n",
              "      <td>1</td>\n",
              "      <td>379.99</td>\n",
              "      <td>09/19/19 17:30</td>\n",
              "      <td>511 Forest St, San Francisco, CA 94016</td>\n",
              "    </tr>\n",
              "    <tr>\n",
              "      <th>186849</th>\n",
              "      <td>259357</td>\n",
              "      <td>USB-C Charging Cable</td>\n",
              "      <td>1</td>\n",
              "      <td>11.95</td>\n",
              "      <td>09/30/19 00:18</td>\n",
              "      <td>250 Meadow St, San Francisco, CA 94016</td>\n",
              "    </tr>\n",
              "  </tbody>\n",
              "</table>\n",
              "<p>185950 rows × 6 columns</p>\n",
              "</div>"
            ],
            "text/plain": [
              "       Order ID                     Product Quantity Ordered Price Each  \\\n",
              "0        176558        USB-C Charging Cable                2      11.95   \n",
              "2        176559  Bose SoundSport Headphones                1      99.99   \n",
              "3        176560                Google Phone                1        600   \n",
              "4        176560            Wired Headphones                1      11.99   \n",
              "5        176561            Wired Headphones                1      11.99   \n",
              "...         ...                         ...              ...        ...   \n",
              "186845   259353      AAA Batteries (4-pack)                3       2.99   \n",
              "186846   259354                      iPhone                1        700   \n",
              "186847   259355                      iPhone                1        700   \n",
              "186848   259356      34in Ultrawide Monitor                1     379.99   \n",
              "186849   259357        USB-C Charging Cable                1      11.95   \n",
              "\n",
              "            Order Date                         Purchase Address  \n",
              "0       04/19/19 08:46             917 1st St, Dallas, TX 75001  \n",
              "2       04/07/19 22:30        682 Chestnut St, Boston, MA 02215  \n",
              "3       04/12/19 14:38     669 Spruce St, Los Angeles, CA 90001  \n",
              "4       04/12/19 14:38     669 Spruce St, Los Angeles, CA 90001  \n",
              "5       04/30/19 09:27        333 8th St, Los Angeles, CA 90001  \n",
              "...                ...                                      ...  \n",
              "186845  09/17/19 20:56   840 Highland St, Los Angeles, CA 90001  \n",
              "186846  09/01/19 16:00  216 Dogwood St, San Francisco, CA 94016  \n",
              "186847  09/23/19 07:39     220 12th St, San Francisco, CA 94016  \n",
              "186848  09/19/19 17:30   511 Forest St, San Francisco, CA 94016  \n",
              "186849  09/30/19 00:18   250 Meadow St, San Francisco, CA 94016  \n",
              "\n",
              "[185950 rows x 6 columns]"
            ]
          },
          "execution_count": 30,
          "metadata": {},
          "output_type": "execute_result"
        }
      ],
      "source": [
        "all_data"
      ]
    },
    {
      "cell_type": "markdown",
      "id": "2d2f59c2",
      "metadata": {
        "id": "2d2f59c2"
      },
      "source": [
        "### 3.3 Correct data types"
      ]
    },
    {
      "cell_type": "code",
      "execution_count": null,
      "id": "0065da21",
      "metadata": {
        "id": "0065da21",
        "outputId": "26f6d1a7-0afa-4dad-e694-0319ed876571"
      },
      "outputs": [
        {
          "data": {
            "text/plain": [
              "Order ID            object\n",
              "Product             object\n",
              "Quantity Ordered    object\n",
              "Price Each          object\n",
              "Order Date          object\n",
              "Purchase Address    object\n",
              "dtype: object"
            ]
          },
          "execution_count": 31,
          "metadata": {},
          "output_type": "execute_result"
        }
      ],
      "source": [
        "all_data.dtypes"
      ]
    },
    {
      "cell_type": "markdown",
      "id": "be91e893",
      "metadata": {
        "id": "be91e893"
      },
      "source": [
        "We can use `.astype` to convert one datatypes to another datatypes"
      ]
    },
    {
      "cell_type": "code",
      "execution_count": null,
      "id": "87b50147",
      "metadata": {
        "id": "87b50147"
      },
      "outputs": [],
      "source": [
        "all_data[\"Price Each\"] = all_data[\"Price Each\"].astype('float') #float: thập phân"
      ]
    },
    {
      "cell_type": "code",
      "execution_count": null,
      "id": "4d3e163b",
      "metadata": {
        "id": "4d3e163b"
      },
      "outputs": [],
      "source": [
        "all_data[\"Quantity Ordered\"] = all_data[\"Quantity Ordered\"].astype('int') #int: số nguyên "
      ]
    },
    {
      "cell_type": "markdown",
      "id": "55074393",
      "metadata": {
        "id": "55074393"
      },
      "source": [
        "The data type of date is currently `object`, so Pandas does not know that this column is a date. We can convert it into a `datetime` column using the `pd.to_datetime` method."
      ]
    },
    {
      "cell_type": "code",
      "execution_count": null,
      "id": "98d42bed",
      "metadata": {
        "id": "98d42bed"
      },
      "outputs": [],
      "source": [
        "all_data['Order Date'] = pd.to_datetime(all_data['Order Date']) #to_datetime: kiểu dữ liệu ngày tháng"
      ]
    },
    {
      "cell_type": "code",
      "execution_count": null,
      "id": "aa574f6d",
      "metadata": {
        "scrolled": true,
        "id": "aa574f6d",
        "outputId": "8756af85-e9a8-4bc1-9479-9a6a841c78ae"
      },
      "outputs": [
        {
          "data": {
            "text/plain": [
              "Order ID                    object\n",
              "Product                     object\n",
              "Quantity Ordered             int32\n",
              "Price Each                 float64\n",
              "Order Date          datetime64[ns]\n",
              "Purchase Address            object\n",
              "dtype: object"
            ]
          },
          "execution_count": 35,
          "metadata": {},
          "output_type": "execute_result"
        }
      ],
      "source": [
        "all_data.dtypes"
      ]
    },
    {
      "cell_type": "markdown",
      "id": "ef5ab452",
      "metadata": {
        "id": "ef5ab452"
      },
      "source": [
        "**Here's a summary of the functions & methods :**\n",
        "* `.isna()` - To dectect missing values\n",
        "* `.any()` - To dectect whether any element is True\n",
        "* `.dropna` - To drop na values base on axis. - \n",
        "* `.loc` and `.iloc`- To select a subset of the rows and columns from a DataFrame\n",
        "* `.astype` to convert one datatypes to another datatypes\n",
        "* `pd.to_datetime`- To convert it into a `datetime` data type"
      ]
    },
    {
      "cell_type": "markdown",
      "id": "17c51d0c",
      "metadata": {
        "id": "17c51d0c"
      },
      "source": [
        "## 4. Data Wrangling"
      ]
    },
    {
      "cell_type": "markdown",
      "id": "dc03f687",
      "metadata": {
        "id": "dc03f687"
      },
      "source": [
        "### 4.1 Add month column"
      ]
    },
    {
      "cell_type": "markdown",
      "id": "ebdd0565",
      "metadata": {
        "id": "ebdd0565"
      },
      "source": [
        "We can now extract different parts of the datetime into separate day, month, year... examlple: `dt.month`, `dt.year`..."
      ]
    },
    {
      "cell_type": "code",
      "execution_count": null,
      "id": "e002cafa",
      "metadata": {
        "id": "e002cafa",
        "outputId": "8ccc8568-0bdd-45d8-de5b-373d4f7e48e0"
      },
      "outputs": [
        {
          "data": {
            "text/html": [
              "<div>\n",
              "<style scoped>\n",
              "    .dataframe tbody tr th:only-of-type {\n",
              "        vertical-align: middle;\n",
              "    }\n",
              "\n",
              "    .dataframe tbody tr th {\n",
              "        vertical-align: top;\n",
              "    }\n",
              "\n",
              "    .dataframe thead th {\n",
              "        text-align: right;\n",
              "    }\n",
              "</style>\n",
              "<table border=\"1\" class=\"dataframe\">\n",
              "  <thead>\n",
              "    <tr style=\"text-align: right;\">\n",
              "      <th></th>\n",
              "      <th>Order ID</th>\n",
              "      <th>Product</th>\n",
              "      <th>Quantity Ordered</th>\n",
              "      <th>Price Each</th>\n",
              "      <th>Order Date</th>\n",
              "      <th>Purchase Address</th>\n",
              "      <th>Month</th>\n",
              "    </tr>\n",
              "  </thead>\n",
              "  <tbody>\n",
              "    <tr>\n",
              "      <th>144526</th>\n",
              "      <td>285875</td>\n",
              "      <td>USB-C Charging Cable</td>\n",
              "      <td>1</td>\n",
              "      <td>11.95</td>\n",
              "      <td>2019-11-26 22:10:00</td>\n",
              "      <td>893 Center St, Atlanta, GA 30301</td>\n",
              "      <td>11</td>\n",
              "    </tr>\n",
              "    <tr>\n",
              "      <th>118495</th>\n",
              "      <td>174646</td>\n",
              "      <td>Apple Airpods Headphones</td>\n",
              "      <td>1</td>\n",
              "      <td>150.00</td>\n",
              "      <td>2019-03-07 18:31:00</td>\n",
              "      <td>876 14th St, Los Angeles, CA 90001</td>\n",
              "      <td>3</td>\n",
              "    </tr>\n",
              "    <tr>\n",
              "      <th>102864</th>\n",
              "      <td>220628</td>\n",
              "      <td>AAA Batteries (4-pack)</td>\n",
              "      <td>1</td>\n",
              "      <td>2.99</td>\n",
              "      <td>2019-06-14 15:53:00</td>\n",
              "      <td>623 14th St, San Francisco, CA 94016</td>\n",
              "      <td>6</td>\n",
              "    </tr>\n",
              "    <tr>\n",
              "      <th>107846</th>\n",
              "      <td>164468</td>\n",
              "      <td>Wired Headphones</td>\n",
              "      <td>1</td>\n",
              "      <td>11.99</td>\n",
              "      <td>2019-03-06 19:06:00</td>\n",
              "      <td>572 4th St, Los Angeles, CA 90001</td>\n",
              "      <td>3</td>\n",
              "    </tr>\n",
              "    <tr>\n",
              "      <th>144714</th>\n",
              "      <td>286058</td>\n",
              "      <td>Bose SoundSport Headphones</td>\n",
              "      <td>1</td>\n",
              "      <td>99.99</td>\n",
              "      <td>2019-11-13 02:35:00</td>\n",
              "      <td>395 Adams St, Los Angeles, CA 90001</td>\n",
              "      <td>11</td>\n",
              "    </tr>\n",
              "  </tbody>\n",
              "</table>\n",
              "</div>"
            ],
            "text/plain": [
              "       Order ID                     Product  Quantity Ordered  Price Each  \\\n",
              "144526   285875        USB-C Charging Cable                 1       11.95   \n",
              "118495   174646    Apple Airpods Headphones                 1      150.00   \n",
              "102864   220628      AAA Batteries (4-pack)                 1        2.99   \n",
              "107846   164468            Wired Headphones                 1       11.99   \n",
              "144714   286058  Bose SoundSport Headphones                 1       99.99   \n",
              "\n",
              "                Order Date                      Purchase Address  Month  \n",
              "144526 2019-11-26 22:10:00      893 Center St, Atlanta, GA 30301     11  \n",
              "118495 2019-03-07 18:31:00    876 14th St, Los Angeles, CA 90001      3  \n",
              "102864 2019-06-14 15:53:00  623 14th St, San Francisco, CA 94016      6  \n",
              "107846 2019-03-06 19:06:00     572 4th St, Los Angeles, CA 90001      3  \n",
              "144714 2019-11-13 02:35:00   395 Adams St, Los Angeles, CA 90001     11  "
            ]
          },
          "execution_count": 36,
          "metadata": {},
          "output_type": "execute_result"
        }
      ],
      "source": [
        "all_data['Month'] = all_data['Order Date'].dt.month # tạo cột 'Month'\n",
        "all_data.sample(5)"
      ]
    },
    {
      "cell_type": "markdown",
      "id": "e388ba0e",
      "metadata": {
        "id": "e388ba0e"
      },
      "source": [
        "### 4.2 Add Sales column"
      ]
    },
    {
      "cell_type": "code",
      "execution_count": null,
      "id": "d9f762d7",
      "metadata": {
        "id": "d9f762d7",
        "outputId": "ee725a13-e142-48b7-f7fd-cc8561f00b5a"
      },
      "outputs": [
        {
          "data": {
            "text/html": [
              "<div>\n",
              "<style scoped>\n",
              "    .dataframe tbody tr th:only-of-type {\n",
              "        vertical-align: middle;\n",
              "    }\n",
              "\n",
              "    .dataframe tbody tr th {\n",
              "        vertical-align: top;\n",
              "    }\n",
              "\n",
              "    .dataframe thead th {\n",
              "        text-align: right;\n",
              "    }\n",
              "</style>\n",
              "<table border=\"1\" class=\"dataframe\">\n",
              "  <thead>\n",
              "    <tr style=\"text-align: right;\">\n",
              "      <th></th>\n",
              "      <th>Order ID</th>\n",
              "      <th>Product</th>\n",
              "      <th>Quantity Ordered</th>\n",
              "      <th>Price Each</th>\n",
              "      <th>Order Date</th>\n",
              "      <th>Purchase Address</th>\n",
              "      <th>Month</th>\n",
              "      <th>Sales</th>\n",
              "    </tr>\n",
              "  </thead>\n",
              "  <tbody>\n",
              "    <tr>\n",
              "      <th>0</th>\n",
              "      <td>176558</td>\n",
              "      <td>USB-C Charging Cable</td>\n",
              "      <td>2</td>\n",
              "      <td>11.95</td>\n",
              "      <td>2019-04-19 08:46:00</td>\n",
              "      <td>917 1st St, Dallas, TX 75001</td>\n",
              "      <td>4</td>\n",
              "      <td>23.90</td>\n",
              "    </tr>\n",
              "    <tr>\n",
              "      <th>2</th>\n",
              "      <td>176559</td>\n",
              "      <td>Bose SoundSport Headphones</td>\n",
              "      <td>1</td>\n",
              "      <td>99.99</td>\n",
              "      <td>2019-04-07 22:30:00</td>\n",
              "      <td>682 Chestnut St, Boston, MA 02215</td>\n",
              "      <td>4</td>\n",
              "      <td>99.99</td>\n",
              "    </tr>\n",
              "    <tr>\n",
              "      <th>3</th>\n",
              "      <td>176560</td>\n",
              "      <td>Google Phone</td>\n",
              "      <td>1</td>\n",
              "      <td>600.00</td>\n",
              "      <td>2019-04-12 14:38:00</td>\n",
              "      <td>669 Spruce St, Los Angeles, CA 90001</td>\n",
              "      <td>4</td>\n",
              "      <td>600.00</td>\n",
              "    </tr>\n",
              "    <tr>\n",
              "      <th>4</th>\n",
              "      <td>176560</td>\n",
              "      <td>Wired Headphones</td>\n",
              "      <td>1</td>\n",
              "      <td>11.99</td>\n",
              "      <td>2019-04-12 14:38:00</td>\n",
              "      <td>669 Spruce St, Los Angeles, CA 90001</td>\n",
              "      <td>4</td>\n",
              "      <td>11.99</td>\n",
              "    </tr>\n",
              "    <tr>\n",
              "      <th>5</th>\n",
              "      <td>176561</td>\n",
              "      <td>Wired Headphones</td>\n",
              "      <td>1</td>\n",
              "      <td>11.99</td>\n",
              "      <td>2019-04-30 09:27:00</td>\n",
              "      <td>333 8th St, Los Angeles, CA 90001</td>\n",
              "      <td>4</td>\n",
              "      <td>11.99</td>\n",
              "    </tr>\n",
              "    <tr>\n",
              "      <th>...</th>\n",
              "      <td>...</td>\n",
              "      <td>...</td>\n",
              "      <td>...</td>\n",
              "      <td>...</td>\n",
              "      <td>...</td>\n",
              "      <td>...</td>\n",
              "      <td>...</td>\n",
              "      <td>...</td>\n",
              "    </tr>\n",
              "    <tr>\n",
              "      <th>186845</th>\n",
              "      <td>259353</td>\n",
              "      <td>AAA Batteries (4-pack)</td>\n",
              "      <td>3</td>\n",
              "      <td>2.99</td>\n",
              "      <td>2019-09-17 20:56:00</td>\n",
              "      <td>840 Highland St, Los Angeles, CA 90001</td>\n",
              "      <td>9</td>\n",
              "      <td>8.97</td>\n",
              "    </tr>\n",
              "    <tr>\n",
              "      <th>186846</th>\n",
              "      <td>259354</td>\n",
              "      <td>iPhone</td>\n",
              "      <td>1</td>\n",
              "      <td>700.00</td>\n",
              "      <td>2019-09-01 16:00:00</td>\n",
              "      <td>216 Dogwood St, San Francisco, CA 94016</td>\n",
              "      <td>9</td>\n",
              "      <td>700.00</td>\n",
              "    </tr>\n",
              "    <tr>\n",
              "      <th>186847</th>\n",
              "      <td>259355</td>\n",
              "      <td>iPhone</td>\n",
              "      <td>1</td>\n",
              "      <td>700.00</td>\n",
              "      <td>2019-09-23 07:39:00</td>\n",
              "      <td>220 12th St, San Francisco, CA 94016</td>\n",
              "      <td>9</td>\n",
              "      <td>700.00</td>\n",
              "    </tr>\n",
              "    <tr>\n",
              "      <th>186848</th>\n",
              "      <td>259356</td>\n",
              "      <td>34in Ultrawide Monitor</td>\n",
              "      <td>1</td>\n",
              "      <td>379.99</td>\n",
              "      <td>2019-09-19 17:30:00</td>\n",
              "      <td>511 Forest St, San Francisco, CA 94016</td>\n",
              "      <td>9</td>\n",
              "      <td>379.99</td>\n",
              "    </tr>\n",
              "    <tr>\n",
              "      <th>186849</th>\n",
              "      <td>259357</td>\n",
              "      <td>USB-C Charging Cable</td>\n",
              "      <td>1</td>\n",
              "      <td>11.95</td>\n",
              "      <td>2019-09-30 00:18:00</td>\n",
              "      <td>250 Meadow St, San Francisco, CA 94016</td>\n",
              "      <td>9</td>\n",
              "      <td>11.95</td>\n",
              "    </tr>\n",
              "  </tbody>\n",
              "</table>\n",
              "<p>185950 rows × 8 columns</p>\n",
              "</div>"
            ],
            "text/plain": [
              "       Order ID                     Product  Quantity Ordered  Price Each  \\\n",
              "0        176558        USB-C Charging Cable                 2       11.95   \n",
              "2        176559  Bose SoundSport Headphones                 1       99.99   \n",
              "3        176560                Google Phone                 1      600.00   \n",
              "4        176560            Wired Headphones                 1       11.99   \n",
              "5        176561            Wired Headphones                 1       11.99   \n",
              "...         ...                         ...               ...         ...   \n",
              "186845   259353      AAA Batteries (4-pack)                 3        2.99   \n",
              "186846   259354                      iPhone                 1      700.00   \n",
              "186847   259355                      iPhone                 1      700.00   \n",
              "186848   259356      34in Ultrawide Monitor                 1      379.99   \n",
              "186849   259357        USB-C Charging Cable                 1       11.95   \n",
              "\n",
              "                Order Date                         Purchase Address  Month  \\\n",
              "0      2019-04-19 08:46:00             917 1st St, Dallas, TX 75001      4   \n",
              "2      2019-04-07 22:30:00        682 Chestnut St, Boston, MA 02215      4   \n",
              "3      2019-04-12 14:38:00     669 Spruce St, Los Angeles, CA 90001      4   \n",
              "4      2019-04-12 14:38:00     669 Spruce St, Los Angeles, CA 90001      4   \n",
              "5      2019-04-30 09:27:00        333 8th St, Los Angeles, CA 90001      4   \n",
              "...                    ...                                      ...    ...   \n",
              "186845 2019-09-17 20:56:00   840 Highland St, Los Angeles, CA 90001      9   \n",
              "186846 2019-09-01 16:00:00  216 Dogwood St, San Francisco, CA 94016      9   \n",
              "186847 2019-09-23 07:39:00     220 12th St, San Francisco, CA 94016      9   \n",
              "186848 2019-09-19 17:30:00   511 Forest St, San Francisco, CA 94016      9   \n",
              "186849 2019-09-30 00:18:00   250 Meadow St, San Francisco, CA 94016      9   \n",
              "\n",
              "         Sales  \n",
              "0        23.90  \n",
              "2        99.99  \n",
              "3       600.00  \n",
              "4        11.99  \n",
              "5        11.99  \n",
              "...        ...  \n",
              "186845    8.97  \n",
              "186846  700.00  \n",
              "186847  700.00  \n",
              "186848  379.99  \n",
              "186849   11.95  \n",
              "\n",
              "[185950 rows x 8 columns]"
            ]
          },
          "execution_count": 37,
          "metadata": {},
          "output_type": "execute_result"
        }
      ],
      "source": [
        "all_data['Sales'] = all_data['Quantity Ordered'] * all_data['Price Each'] #tạo cột 'Sales' dựa trên 2 cột có sẵn\n",
        "all_data"
      ]
    },
    {
      "cell_type": "markdown",
      "id": "38554b5f",
      "metadata": {
        "id": "38554b5f"
      },
      "source": [
        "**Split-apply-combine` for describing group operations.**\n",
        "* In the first stage of the process, data contained in a pandas object, whether a Series, DataFrame, or otherwise, is split into groups based on one or more keys that you provide. The splitting is performed on a particular axis of an object. For example, a DataFrame can be grouped on its rows (axis=0) or its columns (axis=1). \n",
        "* Once this is done, a function is applied to each group, producing a new value.\n",
        "* Finally, the results of all those function applications are combined into a result object. \n",
        "![image.png](attachment:image.png)"
      ]
    },
    {
      "cell_type": "code",
      "execution_count": null,
      "id": "6f73a4d9",
      "metadata": {
        "id": "6f73a4d9",
        "outputId": "3179ddf6-e1e0-496d-928c-481ec9cadb6f"
      },
      "outputs": [
        {
          "data": {
            "text/html": [
              "<div>\n",
              "<style scoped>\n",
              "    .dataframe tbody tr th:only-of-type {\n",
              "        vertical-align: middle;\n",
              "    }\n",
              "\n",
              "    .dataframe tbody tr th {\n",
              "        vertical-align: top;\n",
              "    }\n",
              "\n",
              "    .dataframe thead th {\n",
              "        text-align: right;\n",
              "    }\n",
              "</style>\n",
              "<table border=\"1\" class=\"dataframe\">\n",
              "  <thead>\n",
              "    <tr style=\"text-align: right;\">\n",
              "      <th></th>\n",
              "      <th>Sales</th>\n",
              "    </tr>\n",
              "    <tr>\n",
              "      <th>Month</th>\n",
              "      <th></th>\n",
              "    </tr>\n",
              "  </thead>\n",
              "  <tbody>\n",
              "    <tr>\n",
              "      <th>1</th>\n",
              "      <td>1822256.73</td>\n",
              "    </tr>\n",
              "    <tr>\n",
              "      <th>2</th>\n",
              "      <td>2202022.42</td>\n",
              "    </tr>\n",
              "    <tr>\n",
              "      <th>3</th>\n",
              "      <td>2807100.38</td>\n",
              "    </tr>\n",
              "    <tr>\n",
              "      <th>4</th>\n",
              "      <td>3390670.24</td>\n",
              "    </tr>\n",
              "    <tr>\n",
              "      <th>5</th>\n",
              "      <td>3152606.75</td>\n",
              "    </tr>\n",
              "    <tr>\n",
              "      <th>6</th>\n",
              "      <td>2577802.26</td>\n",
              "    </tr>\n",
              "    <tr>\n",
              "      <th>7</th>\n",
              "      <td>2647775.76</td>\n",
              "    </tr>\n",
              "    <tr>\n",
              "      <th>8</th>\n",
              "      <td>2244467.88</td>\n",
              "    </tr>\n",
              "    <tr>\n",
              "      <th>9</th>\n",
              "      <td>2097560.13</td>\n",
              "    </tr>\n",
              "    <tr>\n",
              "      <th>10</th>\n",
              "      <td>3736726.88</td>\n",
              "    </tr>\n",
              "    <tr>\n",
              "      <th>11</th>\n",
              "      <td>3199603.20</td>\n",
              "    </tr>\n",
              "    <tr>\n",
              "      <th>12</th>\n",
              "      <td>4613443.34</td>\n",
              "    </tr>\n",
              "  </tbody>\n",
              "</table>\n",
              "</div>"
            ],
            "text/plain": [
              "            Sales\n",
              "Month            \n",
              "1      1822256.73\n",
              "2      2202022.42\n",
              "3      2807100.38\n",
              "4      3390670.24\n",
              "5      3152606.75\n",
              "6      2577802.26\n",
              "7      2647775.76\n",
              "8      2244467.88\n",
              "9      2097560.13\n",
              "10     3736726.88\n",
              "11     3199603.20\n",
              "12     4613443.34"
            ]
          },
          "execution_count": 38,
          "metadata": {},
          "output_type": "execute_result"
        }
      ],
      "source": [
        "total_month_df = all_data.groupby(['Month']).agg({\"Sales\":\"sum\"}) #gộp các tháng nào đó với nhau và sử dụng phép cộng cho cột Sales\n",
        "total_month_df"
      ]
    },
    {
      "cell_type": "markdown",
      "id": "b29f28db",
      "metadata": {
        "id": "b29f28db"
      },
      "source": [
        "We can use methods `.max` and `.min` in `numpy` library to find max value and min value of array"
      ]
    },
    {
      "cell_type": "code",
      "execution_count": null,
      "id": "7375ac14",
      "metadata": {
        "id": "7375ac14",
        "outputId": "60396fd2-c985-41d8-bd0c-fd5df669951f"
      },
      "outputs": [
        {
          "data": {
            "text/plain": [
              "4613443.34"
            ]
          },
          "execution_count": 39,
          "metadata": {},
          "output_type": "execute_result"
        }
      ],
      "source": [
        "max_sales = np.max(total_month_df[\"Sales\"]) #np.max(cột muốn tìm)\n",
        "max_sales"
      ]
    },
    {
      "cell_type": "code",
      "execution_count": null,
      "id": "8eae2979",
      "metadata": {
        "id": "8eae2979",
        "outputId": "f6ecc8df-8e5a-41b9-e3e4-767e1ff009c8"
      },
      "outputs": [
        {
          "data": {
            "text/plain": [
              "1822256.73"
            ]
          },
          "execution_count": 40,
          "metadata": {},
          "output_type": "execute_result"
        }
      ],
      "source": [
        "min_sales = np.min(total_month_df[\"Sales\"])\n",
        "min_sales"
      ]
    },
    {
      "cell_type": "code",
      "execution_count": null,
      "id": "3a6ed2d6",
      "metadata": {
        "scrolled": false,
        "id": "3a6ed2d6",
        "outputId": "b0909fb2-8f90-41f5-8d93-d0f0035f05ac"
      },
      "outputs": [
        {
          "data": {
            "text/html": [
              "<div>\n",
              "<style scoped>\n",
              "    .dataframe tbody tr th:only-of-type {\n",
              "        vertical-align: middle;\n",
              "    }\n",
              "\n",
              "    .dataframe tbody tr th {\n",
              "        vertical-align: top;\n",
              "    }\n",
              "\n",
              "    .dataframe thead th {\n",
              "        text-align: right;\n",
              "    }\n",
              "</style>\n",
              "<table border=\"1\" class=\"dataframe\">\n",
              "  <thead>\n",
              "    <tr style=\"text-align: right;\">\n",
              "      <th></th>\n",
              "      <th>Sales</th>\n",
              "    </tr>\n",
              "    <tr>\n",
              "      <th>Month</th>\n",
              "      <th></th>\n",
              "    </tr>\n",
              "  </thead>\n",
              "  <tbody>\n",
              "    <tr>\n",
              "      <th>12</th>\n",
              "      <td>4613443.34</td>\n",
              "    </tr>\n",
              "  </tbody>\n",
              "</table>\n",
              "</div>"
            ],
            "text/plain": [
              "            Sales\n",
              "Month            \n",
              "12     4613443.34"
            ]
          },
          "execution_count": 41,
          "metadata": {},
          "output_type": "execute_result"
        }
      ],
      "source": [
        "highest_df = total_month_df[total_month_df[\"Sales\"] == max_sales]\n",
        "highest_df"
      ]
    },
    {
      "cell_type": "code",
      "execution_count": null,
      "id": "27dbdaec",
      "metadata": {
        "id": "27dbdaec"
      },
      "outputs": [],
      "source": [
        "highest_month = highest_df.index[0]\n",
        "highest_month"
      ]
    },
    {
      "cell_type": "markdown",
      "id": "db2510b3",
      "metadata": {
        "id": "db2510b3"
      },
      "source": [
        "### 4.3 Answer a question"
      ]
    },
    {
      "cell_type": "code",
      "execution_count": null,
      "id": "3a777161",
      "metadata": {
        "id": "3a777161",
        "outputId": "348f7ee9-fad8-4985-fa1a-a73862b011ed"
      },
      "outputs": [
        {
          "name": "stdout",
          "output_type": "stream",
          "text": [
            "The month that the best month for sales is 12 and it earned 4613443.34 for that month\n"
          ]
        }
      ],
      "source": [
        "print(\"The month that the best month for sales is {0} and it earned {1} for that month\".format(highest_month,max_sales))"
      ]
    },
    {
      "cell_type": "markdown",
      "id": "a285a252",
      "metadata": {
        "id": "a285a252"
      },
      "source": [
        "**Here's a summary of the functions & methods :**\n",
        "\n",
        "* `.groupby` - To pivot aggregates a table of data by one or more keys\n",
        "* `.dt.month` - Extract month from the datetime\n",
        "* `np.max` and `np.min` - To find max, min value in array"
      ]
    },
    {
      "cell_type": "markdown",
      "id": "b7794f07",
      "metadata": {
        "id": "b7794f07"
      },
      "source": [
        "## 5. Visualization"
      ]
    },
    {
      "cell_type": "markdown",
      "id": "b9f488fb",
      "metadata": {
        "id": "b9f488fb"
      },
      "source": [
        "We generally use a library like `matplotlib` or `seaborn` plot graphs within a Jupyter notebook. However, Pandas dataframes & Series provide a handy `.plot` method for quick and easy plotting."
      ]
    },
    {
      "cell_type": "code",
      "source": [
        "help(total_month_df)"
      ],
      "metadata": {
        "id": "VTyK0o8Q657Y"
      },
      "id": "VTyK0o8Q657Y",
      "execution_count": null,
      "outputs": []
    },
    {
      "cell_type": "code",
      "source": [
        "dir(total_month_df)"
      ],
      "metadata": {
        "id": "kTZbSCJi7BAb"
      },
      "id": "kTZbSCJi7BAb",
      "execution_count": null,
      "outputs": []
    },
    {
      "cell_type": "code",
      "execution_count": null,
      "id": "fe6ea608",
      "metadata": {
        "scrolled": true,
        "id": "fe6ea608",
        "outputId": "441fe6b3-06b9-4615-b5c2-64834cf58529"
      },
      "outputs": [
        {
          "data": {
            "image/png": "[encoded data removed]",
            "text/plain": [
              "<Figure size 1152x648 with 1 Axes>"
            ]
          },
          "metadata": {},
          "output_type": "display_data"
        }
      ],
      "source": [
        "total_month_df.plot(kind = \"bar\",figsize = (16,9), xlabel = \"Month number\" ,ylabel =\"Sales in USD ($)\");"
      ]
    },
    {
      "cell_type": "markdown",
      "id": "c81c6330",
      "metadata": {
        "id": "c81c6330"
      },
      "source": [
        "`.plot()` has several optional parameters. Most notably, the **kind** parameter accepts eleven different string values and determines which kind of plot you’ll create: \"area\", \"bar\", \"box\"... "
      ]
    },
    {
      "cell_type": "markdown",
      "id": "7008458d",
      "metadata": {
        "id": "7008458d"
      },
      "source": [
        "**Here's a summary of the functions & methods :**\n",
        "* `.plot` - To plotting data"
      ]
    },
    {
      "cell_type": "markdown",
      "id": "e4d63ca9",
      "metadata": {
        "id": "e4d63ca9"
      },
      "source": [
        "## 6. Summary \n",
        "We've covered the following topics:\n",
        "* Reading a CSV file into a Pandas data frame\n",
        "* Retrieving data from Pandas data frames\n",
        "* Data wrangling\n",
        "* Querying, soring, and analyzing data\n",
        "* Extracting useful information from dates\n",
        "* Grouping, and aggregation of data\n",
        "* Visualization"
      ]
    }
  ],
  "metadata": {
    "kernelspec": {
      "display_name": "Python 3 (ipykernel)",
      "language": "python",
      "name": "python3"
    },
    "language_info": {
      "codemirror_mode": {
        "name": "ipython",
        "version": 3
      },
      "file_extension": ".py",
      "mimetype": "text/x-python",
      "name": "python",
      "nbconvert_exporter": "python",
      "pygments_lexer": "ipython3",
      "version": "3.9.12"
    },
    "toc": {
      "base_numbering": 1,
      "nav_menu": {},
      "number_sections": false,
      "sideBar": true,
      "skip_h1_title": false,
      "title_cell": "Table of Contents",
      "title_sidebar": "Contents",
      "toc_cell": false,
      "toc_position": {},
      "toc_section_display": true,
      "toc_window_display": true
    },
    "colab": {
      "provenance": [],
      "include_colab_link": true
    }
  },
  "nbformat": 4,
  "nbformat_minor": 5
}