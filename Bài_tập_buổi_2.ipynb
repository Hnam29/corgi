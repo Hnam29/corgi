{
  "nbformat": 4,
  "nbformat_minor": 0,
  "metadata": {
    "colab": {
      "provenance": [],
      "collapsed_sections": [],
      "authorship_tag": "ABX9TyMX9UlFr3qvkGpHzhjzaRNJ",
      "include_colab_link": true
    },
    "kernelspec": {
      "name": "python3",
      "display_name": "Python 3"
    },
    "language_info": {
      "name": "python"
    }
  },
  "cells": [
    {
      "cell_type": "markdown",
      "metadata": {
        "id": "view-in-github",
        "colab_type": "text"
      },
      "source": [
        "<a href=\"https://colab.research.google.com/github/Hnam29/corgi/blob/main/B%C3%A0i_t%E1%BA%ADp_bu%E1%BB%95i_2.ipynb\" target=\"_parent\"><img src=\"https://colab.research.google.com/assets/colab-badge.svg\" alt=\"Open In Colab\"/></a>"
      ]
    },
    {
      "cell_type": "code",
      "execution_count": null,
      "metadata": {
        "colab": {
          "base_uri": "https://localhost:8080/"
        },
        "id": "vqdnePrB0ehb",
        "outputId": "5c74d65e-8dfe-463c-feb7-40e13ee1300e"
      },
      "outputs": [
        {
          "output_type": "stream",
          "name": "stdout",
          "text": [
            "a= 10\n",
            "b= -0.9\n",
            "c= 16\n",
            "d= 105\n",
            "e= 3230000.0\n",
            "f= 0.0702\n",
            "g= 3.14j\n",
            "h= (-0.6545+0j)\n"
          ]
        }
      ],
      "source": [
        "# bài 1\n",
        "'''\n",
        "0b0011: số ở hệ cơ số 2\n",
        "0o20: số ở hệ cơ số 8\n",
        "0x69: số ở hệ cơ số 16\n",
        "'''\n",
        "a = 10\n",
        "b = -.9\n",
        "c = 0o20\n",
        "d = 0x69\n",
        "e = 32.3e+5\n",
        "f = 70.2E-3\n",
        "g = 3.14j\n",
        "h = -.6545+0J\n",
        "print('a=',a)\n",
        "print('b=',b)\n",
        "print('c=',c)\n",
        "print('d=',d)\n",
        "print('e=',e)\n",
        "print('f=',f)\n",
        "print('g=',g)\n",
        "print('h=',h)"
      ]
    },
    {
      "cell_type": "code",
      "source": [
        "# bài 2\n",
        "# 2.1 Chuyển các giá trị sau ra số nguyên (int)\n",
        "print(int(12.365))\n",
        "print(int(float(\"15.99\")))\n",
        "print(int(-13.5))\n",
        "\n",
        "# 2.2 Chuyển các xâu sau ra số thực\n",
        "print(float(\"-32.54e6\"))\n",
        "print(float(\"-.9e6\"))\n"
      ],
      "metadata": {
        "colab": {
          "base_uri": "https://localhost:8080/"
        },
        "id": "XBVTdDvA0rwd",
        "outputId": "d98a634a-6cb3-4b6d-fe5a-67d07193a4dd"
      },
      "execution_count": null,
      "outputs": [
        {
          "output_type": "stream",
          "name": "stdout",
          "text": [
            "12\n",
            "15\n",
            "-13\n",
            "-32540000.0\n",
            "-900000.0\n"
          ]
        }
      ]
    },
    {
      "cell_type": "code",
      "source": [
        "# bài 3\n",
        "# sử dụng \"math.ceil và math.floor\"\n",
        "import math\n",
        "# math.ceil\n",
        "print(\"Sử dụng math.ceil:\",math.ceil(15.11))\n",
        "print(math.ceil(15.99))\n",
        "print(math.ceil(-15.11))\n",
        "print(math.ceil(-15.99))\n",
        "# math.floor\n",
        "print(\"Sử dụng math.floor:\",math.floor(15.11))\n",
        "print(math.floor(15.99))\n",
        "print(math.floor(-15.11))\n",
        "print(math.floor(-15.99))\n",
        "# sử dụng hàm \"round\"\n",
        "print(\"Sử dụng hàm round:\",round(5.4))\n",
        "print(\"Sử dụng hàm round:\",round(5.5))\n",
        "print(\"Sử dụng hàm round:\",round(5.6))\n",
        "print(\"Sử dụng hàm round:\",round(-5.4))\n",
        "# hàm \"round\" làm tròn đến 2 chữ số \n",
        "print(\"Sử dụng hàm round:\",round(5.431,2))\n",
        "print(\"Sử dụng hàm round:\",round(5.435,2))\n",
        "print(\"Sử dụng hàm round:\",round(5.439,2))\n"
      ],
      "metadata": {
        "colab": {
          "base_uri": "https://localhost:8080/"
        },
        "id": "eFlO2xHG16oD",
        "outputId": "f60fcbe3-1e35-4aa0-88c3-60121d0edd47"
      },
      "execution_count": null,
      "outputs": [
        {
          "output_type": "stream",
          "name": "stdout",
          "text": [
            "Sử dụng math.ceil: 16\n",
            "16\n",
            "-15\n",
            "-15\n",
            "Sử dụng math.floor: 15\n",
            "15\n",
            "-16\n",
            "-16\n",
            "Sử dụng hàm round: 5\n",
            "Sử dụng hàm round: 6\n",
            "Sử dụng hàm round: 6\n",
            "Sử dụng hàm round: -5\n",
            "Sử dụng hàm round: 5.43\n",
            "Sử dụng hàm round: 5.43\n",
            "Sử dụng hàm round: 5.44\n"
          ]
        }
      ]
    },
    {
      "cell_type": "markdown",
      "source": [
        "Nhận xét:\n",
        "- Với hàm math.ceil: làm tròn số thập phân tăng lên.\n",
        "- Với hàm math.floor: làm tròn số thập phân giảm xuống.\n",
        "- Với hàm round: làm tròn số giảm xuống nếu phần số thập phân từ 1-5, tăng lên nếu phần số thập phân từ 6-9."
      ],
      "metadata": {
        "id": "SoW7xwA64f7V"
      }
    },
    {
      "cell_type": "code",
      "source": [
        "# bài 4\n",
        "import math\n",
        "print(math.modf(4.56))"
      ],
      "metadata": {
        "colab": {
          "base_uri": "https://localhost:8080/"
        },
        "id": "K6BOzuma5JjG",
        "outputId": "1f866b90-ce12-4320-c3c0-46f4dd4512c5"
      },
      "execution_count": null,
      "outputs": [
        {
          "output_type": "stream",
          "name": "stdout",
          "text": [
            "(0.5599999999999996, 4.0)\n"
          ]
        }
      ]
    },
    {
      "cell_type": "markdown",
      "source": [
        "# modf(x) -> (a,b) \n",
        "+) a là phần nguyên của x\n",
        "\n",
        "+) b là phần thập phân của x"
      ],
      "metadata": {
        "id": "5ygLfUUe6AJC"
      }
    },
    {
      "cell_type": "code",
      "source": [
        "a = math.modf(4.56)\n",
        "print(type(a))\n",
        "print(\"Phần nguyên:\",a[1])\n",
        "print(\"Phần thập phân:\",a[0])"
      ],
      "metadata": {
        "colab": {
          "base_uri": "https://localhost:8080/"
        },
        "id": "kRMXbF2T6ebQ",
        "outputId": "334ae02c-32ae-4f18-eb30-b75945f687a8"
      },
      "execution_count": null,
      "outputs": [
        {
          "output_type": "stream",
          "name": "stdout",
          "text": [
            "<class 'tuple'>\n",
            "Phần nguyên: 4.0\n",
            "Phần thập phân: 0.5599999999999996\n"
          ]
        }
      ]
    },
    {
      "cell_type": "code",
      "source": [
        "# bài 5 "
      ],
      "metadata": {
        "id": "nuBD_NqmGbyu"
      },
      "execution_count": null,
      "outputs": []
    },
    {
      "cell_type": "markdown",
      "source": [
        "Sử dụng hàm \"max\", \"min\""
      ],
      "metadata": {
        "id": "eME9Kth4HbOo"
      }
    },
    {
      "cell_type": "code",
      "source": [
        "a = 2**3**4\n",
        "b = 3**2**4\n",
        "c = 4**3**2\n",
        "print(\"a:\",a)\n",
        "print(\"b:\",b)\n",
        "print(\"c:\",c)\n",
        "# max\n",
        "print(max(2**3**4,3**2**4,4**3**2))\n",
        "# min \n",
        "print(min(2**3**4,3**2**4,4**3**2))"
      ],
      "metadata": {
        "colab": {
          "base_uri": "https://localhost:8080/"
        },
        "id": "qAxVCzX3HhO-",
        "outputId": "a3929ed1-25e0-4637-91f7-747275c5e72f"
      },
      "execution_count": null,
      "outputs": [
        {
          "output_type": "stream",
          "name": "stdout",
          "text": [
            "a: 2417851639229258349412352\n",
            "b: 43046721\n",
            "c: 262144\n",
            "2417851639229258349412352\n",
            "262144\n"
          ]
        }
      ]
    },
    {
      "cell_type": "code",
      "source": [
        "# bài 6\n",
        "s = \"The best of the BBC, with the latest news and sport headlines, weather, TV & radio highlights and much more from across\"\n",
        "x = s[21:]\n",
        "print(\"x =\",x)"
      ],
      "metadata": {
        "colab": {
          "base_uri": "https://localhost:8080/"
        },
        "id": "vl3pZnihKere",
        "outputId": "5fc5fd8c-8d10-40f7-8e29-d9d1aa88fc76"
      },
      "execution_count": null,
      "outputs": [
        {
          "output_type": "stream",
          "name": "stdout",
          "text": [
            "x = with the latest news and sport headlines, weather, TV & radio highlights and much more from across\n"
          ]
        }
      ]
    },
    {
      "cell_type": "code",
      "source": [
        "# bài 7\n",
        "print(\"Hello everyone. My barcode's \\44GFD\\ \")"
      ],
      "metadata": {
        "colab": {
          "base_uri": "https://localhost:8080/"
        },
        "id": "Rr-aa3-ZLdj9",
        "outputId": "c1118ff6-a266-49d1-8c3b-dbe576ddbdc3"
      },
      "execution_count": null,
      "outputs": [
        {
          "output_type": "stream",
          "name": "stdout",
          "text": [
            "Hello everyone. My barcode's $GFD\\ \n"
          ]
        }
      ]
    },
    {
      "cell_type": "code",
      "source": [
        "# bài 8\n",
        "list = [\"Nguyễn Văn Nam\", 'Trần Xuân Hải', 'Lương Thế Anh']\n",
        "\n",
        "# xoá 2 phần tử đầu của list \n",
        "# NOTE: phương thức \"remove\" chỉ xoá được 1 phần tử \n",
        "# sử dụng lệnh \"del\" để xoá nhiều, hoặc toàn bộ phần tử \n",
        "del list[0:2] # không tính phần tử cuối\n",
        "print(list)\n",
        "list.append('Trần Xuân Hải')\n",
        "print(list)\n",
        "list.append('Nguyễn Văn Nam')\n",
        "print(list)"
      ],
      "metadata": {
        "colab": {
          "base_uri": "https://localhost:8080/"
        },
        "id": "2IAUFKjIL7Z3",
        "outputId": "582af01c-ee6b-4996-f191-d45209889072"
      },
      "execution_count": null,
      "outputs": [
        {
          "output_type": "stream",
          "name": "stdout",
          "text": [
            "['Lương Thế Anh']\n",
            "['Lương Thế Anh', 'Trần Xuân Hải']\n",
            "['Lương Thế Anh', 'Trần Xuân Hải', 'Nguyễn Văn Nam']\n"
          ]
        }
      ]
    },
    {
      "cell_type": "code",
      "source": [
        "# bài 9\n",
        "s1 = set(['Nam','Hải','Hoàng','Hùng','An'])\n",
        "print(s1)\n",
        "# 9.1 Thêm vào tập hợp s1 phần tử “Bắc”. In lại s1\n",
        "# add -> thêm 1 phần tử\n",
        "s1.add('Bắc')\n",
        "print(s1)\n",
        "# 9.2 Xóa phần tử “An” ra khỏi tập hợp. In lại s1\n",
        "# Nếu phần tử cần xoá k tồn tại -> method 'remove' sẽ bị lỗi\n",
        "s1.remove('An')\n",
        "# Nếu phần tử cần xoá k tồn tại -> method 'discard' sẽ KO bị lỗi\n",
        "s1.discard('An')\n",
        "print(s1)\n",
        "# --> NÊN sử dụng phương thức 'remove' để biết rằng phần tử cần xoá có thực sự tồn tại \n",
        "# 9.3 Thêm vào tập hợp s1 đồng thời 4 phần tử là “Hải”, “Tuấn”, “Dũng”, “Bắc”.\n",
        "# update -> thêm nhiều phần tử\n",
        "s1.update(['Hải','Tuấn','Dũng','Bắc'])\n",
        "s1\n",
        "# --> Không thêm những phần tử bị trùng \"duplicated values\""
      ],
      "metadata": {
        "colab": {
          "base_uri": "https://localhost:8080/"
        },
        "id": "W04c1EO8OTE4",
        "outputId": "f3c3af76-b3e6-412c-e026-f58d33dac530"
      },
      "execution_count": null,
      "outputs": [
        {
          "output_type": "stream",
          "name": "stdout",
          "text": [
            "{'An', 'Hoàng', 'Hải', 'Nam', 'Hùng'}\n",
            "{'An', 'Hoàng', 'Bắc', 'Hải', 'Nam', 'Hùng'}\n",
            "{'Hoàng', 'Bắc', 'Hải', 'Nam', 'Hùng'}\n"
          ]
        },
        {
          "output_type": "execute_result",
          "data": {
            "text/plain": [
              "{'Bắc', 'Dũng', 'Hoàng', 'Hùng', 'Hải', 'Nam', 'Tuấn'}"
            ]
          },
          "metadata": {},
          "execution_count": 55
        }
      ]
    },
    {
      "cell_type": "code",
      "source": [
        "# bài 10\n",
        "dict = {\"Nguyễn Văn Hùng\":{\"SĐT\": '0913212454',\"Email\":\"hungnv@gmail.com\",'address':\"23 Nguyễn Trãi, Thanh Xuân, Hà Nội\"},\n",
        "        \"Ngô Văn Nam\":{\"SĐT\":\"0913213454\",\"Email\":\"namnv@gmail.com\",\"address\":\"15 Đại Cồ Việt, Hai Bà Trưng, Hà Nội\"},}\n",
        "# 10.1 Xóa “Nguyễn Văn Hùng” ra khỏi danh bạ. In lại danh bạ.\n",
        "del dict['Nguyễn Văn Hùng']\n",
        "print(dict)\n",
        "# 10.2 Thêm mới 2 liên hệ khác vào danh bạ điện thoại. In ra danh bạ.\n",
        "dict.update({\n",
        "    \"Cao Văn Hoà\":{\"SĐT\": '0913212456',\"Email\":\"hoanv@gmail.com\",'address':\"90 Nguyễn Khang, Cầu Giấy, Hà Nội\"},\n",
        "    \"Vũ Hải Nam\":{\"SĐT\": '0913212450',\"Email\":\"namvh@gmail.com\",'address':\"01 Trương Định, Hoàng Mai, Hà Nội\"},\n",
        "})\n",
        "print(dict)\n",
        "# 10.3 In ra màn hình SĐT của một người nào đó.\n",
        "print('Sđt của Vũ Hải Nam là:',dict['Vũ Hải Nam']['SĐT'])    "
      ],
      "metadata": {
        "colab": {
          "base_uri": "https://localhost:8080/"
        },
        "id": "PcE2mOF5TJKk",
        "outputId": "5d64e07a-3779-4fc9-f1b2-e523c4e14a3a"
      },
      "execution_count": 3,
      "outputs": [
        {
          "output_type": "stream",
          "name": "stdout",
          "text": [
            "{'Ngô Văn Nam': {'SĐT': '0913213454', 'Email': 'namnv@gmail.com', 'address': '15 Đại Cồ Việt, Hai Bà Trưng, Hà Nội'}}\n",
            "{'Ngô Văn Nam': {'SĐT': '0913213454', 'Email': 'namnv@gmail.com', 'address': '15 Đại Cồ Việt, Hai Bà Trưng, Hà Nội'}, 'Cao Văn Hoà': {'SĐT': '0913212456', 'Email': 'hoanv@gmail.com', 'address': '90 Nguyễn Khang, Cầu Giấy, Hà Nội'}, 'Vũ Hải Nam': {'SĐT': '0913212450', 'Email': 'namvh@gmail.com', 'address': '01 Trương Định, Hoàng Mai, Hà Nội'}}\n",
            "Sđt của Vũ Hải Nam là: 0913212450\n"
          ]
        }
      ]
    },
    {
      "cell_type": "code",
      "source": [
        "# bài 11\n",
        "# In ra kết quả logic của mệnh đề: \"2^3^4 lớn hơn 2^4^3\"\n",
        "print(bool(2**(3**4) > 2**(4**3)))"
      ],
      "metadata": {
        "colab": {
          "base_uri": "https://localhost:8080/"
        },
        "id": "a_A8H5PpZ_VD",
        "outputId": "7b9697ad-0ec1-4e38-a375-ade06571b70b"
      },
      "execution_count": 4,
      "outputs": [
        {
          "output_type": "stream",
          "name": "stdout",
          "text": [
            "True\n"
          ]
        }
      ]
    },
    {
      "cell_type": "code",
      "source": [
        "a = 2**(3**4)\n",
        "b = 2**(4**3)\n",
        "print(a>b)"
      ],
      "metadata": {
        "colab": {
          "base_uri": "https://localhost:8080/"
        },
        "id": "ZUp0Y0B6yHkt",
        "outputId": "ac795ff9-6d7f-4bc1-95ec-66a6635f2abe"
      },
      "execution_count": 5,
      "outputs": [
        {
          "output_type": "stream",
          "name": "stdout",
          "text": [
            "True\n"
          ]
        }
      ]
    }
  ]
}